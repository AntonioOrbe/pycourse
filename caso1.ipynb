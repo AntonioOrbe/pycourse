{
 "cells": [
  {
   "cell_type": "markdown",
   "metadata": {},
   "source": [
    "## Hello Ther"
   ]
  },
  {
   "cell_type": "code",
   "execution_count": null,
   "metadata": {},
   "outputs": [],
   "source": [
    "print(\"Hello World!\")"
   ]
  },
  {
   "cell_type": "code",
   "execution_count": null,
   "metadata": {},
   "outputs": [],
   "source": [
    "def hello(there):\n",
    "    \"\"\"Github-flavoured theme\"\"\""
   ]
  },
  {
   "cell_type": "code",
   "execution_count": 2,
   "metadata": {},
   "outputs": [
    {
     "name": "stdout",
     "output_type": "stream",
     "text": [
      "jupyter core     : 4.6.3\n",
      "jupyter-notebook : 6.0.3\n",
      "qtconsole        : not installed\n",
      "ipython          : 7.13.0\n",
      "ipykernel        : 5.1.4\n",
      "jupyter client   : 6.0.0\n",
      "jupyter lab      : 2.0.1\n",
      "nbconvert        : 5.6.1\n",
      "ipywidgets       : 7.5.0\n",
      "nbformat         : 5.0.4\n",
      "traitlets        : 4.3.3\n"
     ]
    }
   ],
   "source": [
    "!jupyter --version"
   ]
  },
  {
   "cell_type": "code",
   "execution_count": 3,
   "metadata": {},
   "outputs": [
    {
     "name": "stdout",
     "output_type": "stream",
     "text": [
      "7.13.0\n"
     ]
    }
   ],
   "source": [
    "!ipython --version"
   ]
  },
  {
   "cell_type": "code",
   "execution_count": 1,
   "metadata": {},
   "outputs": [],
   "source": [
    "!start ."
   ]
  },
  {
   "cell_type": "code",
   "execution_count": 4,
   "metadata": {},
   "outputs": [
    {
     "name": "stdout",
     "output_type": "stream",
     "text": [
      "Name: notebook\n",
      "Version: 6.0.2\n",
      "Summary: A web-based notebook environment for interactive computing\n",
      "Home-page: http://jupyter.org\n",
      "Author: Jupyter Development Team\n",
      "Author-email: jupyter@googlegroups.com\n",
      "License: BSD\n",
      "Location: c:\\users\\pachacho\\miniconda3\\lib\\site-packages\n",
      "Requires: prometheus-client, nbconvert, tornado, jinja2, jupyter-core, Send2Trash, pyzmq, jupyter-client, ipython-genutils, terminado, traitlets, ipykernel, nbformat\n",
      "Required-by: widgetsnbextension, jupyterlab, jupyterlab-server, jupyter\n"
     ]
    }
   ],
   "source": [
    "!pip3 show notebook"
   ]
  }
 ],
 "metadata": {
  "kernelspec": {
   "display_name": "Python 3",
   "language": "python",
   "name": "python3"
  },
  "language_info": {
   "codemirror_mode": {
    "name": "ipython",
    "version": 3
   },
   "file_extension": ".py",
   "mimetype": "text/x-python",
   "name": "python",
   "nbconvert_exporter": "python",
   "pygments_lexer": "ipython3",
   "version": "3.7.6"
  }
 },
 "nbformat": 4,
 "nbformat_minor": 4
}
