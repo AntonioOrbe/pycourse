{
 "cells": [
  {
   "cell_type": "markdown",
   "metadata": {},
   "source": [
    "1. Mejor y más sencillo: cómo ser un maestro zen (de Python)\n",
    "  + git\n",
    "  + ayuda\n",
    "  + formateo de texto\n",
    "  + tipado\n",
    "  + guia de estilo\n",
    "  + generacion y depuracion de errores\n",
    "  + decoradores\n",
    "  + listas por comprension y generadores\n",
    "  + (opcional) documentacion\n",
    "  + (opcional) pruebas de codigo \n",
    "2. Programación Funcional\n",
    "  + funciones anonimas\n",
    "  + map-reduce\n",
    "  + inmutabilidad de datos \n",
    "  + (opcional) lazy evaluation\n",
    "  + (opcional) funciones parciales\n",
    "3. Computación numérica\n",
    "  + numpy\n",
    "  + pandas"
   ]
  },
  {
   "cell_type": "markdown",
   "metadata": {},
   "source": [
    "# Curso de Python Parte 2: Python Avanzado\n",
    "_titulo provisional. Estaria bien un titulo que produzca mas engagement_ 💪\n",
    "\n",
    "Estaría guay que no estuviese yo solo impartiendo (quizas Matesanz de support?)\n",
    "\n",
    "Table of Contents (mas o menos):\n",
    "1. Recap de la parte anterior. Recoleccion de dudas.\n",
    "2. ¿POR QUÉ hay tantas versiones de Python? 🤯\n",
    "3. 4 sílabas: Do-cu-men-ta.\n",
    "  1. Útil: decoradores en Python (añaden más documentacion).\n",
    "4. Estructuras de datos complejas en Python.\n",
    "  1. Generacion de listas y diccionarios. Unpacking.\n",
    "  2. Numpy\n",
    "  3. Pandas\n",
    "5. Depurando errores, *the Jupyter way*\n",
    "  1. Palabras especiales en Jupyter: `pdb`.\n",
    "  2. Debuggeando fuera de Jupyter. Por qué mi función compila: Laziness\n",
    "6. Python...¿tipado? 😱\n",
    "7. Programación funcional en Python 🤩\n",
    "  1. Lo más usado.\n",
    "  2. Lo que tendrías que saber: inmutabilidad y manejo de errores (Optional).\n",
    "  3. Dónde se usa: MapReduce, Hadoop, Spark, ....\n",
    "8. Off-topic: ¿conoces JupyterLab?\n",
    "9. Off-topic: encaminamos hacia Reinforcement Learning. ¿Donde puedo ver modelos?\n",
    "\n",
    "---"
   ]
  },
  {
   "cell_type": "markdown",
   "metadata": {},
   "source": [
    "## Re-cap: dudas más comunes y cosas a recordar\n",
    "\n",
    "+ Repasar el tema de [fechas][datetime], tema muy recurrente. [Aquí la lib][datetime2].\n",
    "\n",
    "De entrada, estaría bien comentar que\n",
    "+ Para la gente de Windows, existe *Windows Subsystem for Linux*: no hace falta instalaros un Linux entero :D\n",
    "+ Tema de usar linea de comandos, `cmd` / `bash`\n",
    "\n",
    "[datetime]: https://stackoverflow.com/questions/12772057/how-can-i-format-date-in-iso-using-python\n",
    "[datetime2]: https://docs.python.org/3.7/library/datetime.html"
   ]
  },
  {
   "cell_type": "code",
   "execution_count": null,
   "metadata": {},
   "outputs": [],
   "source": [
    "# codigo de ejemplo en esta parte"
   ]
  },
  {
   "cell_type": "markdown",
   "metadata": {},
   "source": [
    "## ¿Por qué hay tantas versiones de Python? 🤯 ¿POR QUÉ? 😭😭😭😭\n",
    "\n",
    "\n",
    "Las versiones de Python vienen a ser como la familia de Cletus de Los Simpsons:\n",
    "\n",
    "![cletus](https://media3.giphy.com/media/xT5LMFzMXCmNXD6bzW/source.gif)\n",
    "\n",
    "+ Explicar las diferencias entre Python 2 y 3. Py2 perdió soporte este año!\n",
    "+ Nos enfocamos en Python 3.x.\n",
    "  + Principales características versiones 3.0 - 3.4.\n",
    "  + En detalle: características de las versiones 3.5, 3.6, 3.7 y 3.8. Por qué elegimos la 3.7 como base.\n",
    "    + [3.5][3.5]: Corutinas asincronas, operador matricial `@`, tipado, \n",
    "    + [3.6][3.6]: Formateo con `f\"\"`, separadores de millones con barrabaja `1_000_000`, mejor implementacion dict\n",
    "    + [3.7][3.7]: Mejor concurrencia, Mejor tipado.\n",
    "    + [3.8][3.8]: ¿Y si hacemos el lenguaje más complejo? Sí, me parece bien 🙂\n",
    "  \n",
    "[3.5]: https://docs.python.org/3/whatsnew/3.5.html\n",
    "[3.6]: https://docs.python.org/3/whatsnew/3.6.html\n",
    "[3.7]: https://docs.python.org/3/whatsnew/3.7.html\n",
    "[3.8]: https://docs.python.org/3/whatsnew/3.8.html"
   ]
  },
  {
   "cell_type": "code",
   "execution_count": 3,
   "metadata": {},
   "outputs": [],
   "source": [
    "# codigo de ejemplo en esta parte"
   ]
  },
  {
   "cell_type": "markdown",
   "metadata": {},
   "source": [
    "## 4 sílabas: Do-cu-men-ta\n",
    "\n",
    "Hay que tener una cosa clara: una de las ideas fundamentales de Python es que **el código sea legible**. [Tal y como explica][iff] su creador, se necesitaba un lenguaje que pudiese ejecutarse al nivel de C y bash, con gran interoperabilidad, y que fuese más legible. Por eso ves que:\n",
    "  + No se usan llaves `{}` para definir ni funciones ni bucles\n",
    "  + El tipo no es obligatorio, reduciendo el nº de palabras a usar\n",
    "  + Tampoco se define el ámbito de las variables (`public`, `private`, ...), sino que se hace **de modo implícito** (`v_public`, `__v_private__`)\n",
    "  \n",
    "Basicamente, explicar que si escribes codigo tienes que documentarlo. Existe el **PEP8** para estandarizar la documentacion. Ademas, ten en cuenta los nombres de las variables. Se puede tipar Python para darle más solidez al codigo, aunque tambien se puede usar para legibilidad.\n",
    "\n",
    "+ Mas el uso de *underscore* `_` para asignar variables que no nos importan\n",
    "\n",
    "[iff]: https://effbot.org/pyfaq/why-was-python-created-in-the-first-place.htm\n",
    "[then]: https://www.kdnuggets.com/2017/07/6-reasons-python-suddenly-super-popular.html"
   ]
  },
  {
   "cell_type": "code",
   "execution_count": 4,
   "metadata": {},
   "outputs": [],
   "source": [
    "# codigo"
   ]
  },
  {
   "cell_type": "markdown",
   "metadata": {},
   "source": [
    "## Estructuras de datos complejas\n",
    "\n",
    "Pues dar los elementos dentro de `collections`, y despues\n",
    "  + Numpy: enfasis en la propagacion de operaciones (`np.zero(4) + 1`), en la creacion de matrices y en el uso de calculos (`np.mean, np.minmax, ...`). Explicar relacion con Matlab y LAPACK\n",
    "  + Pandas: enfasis en DataFrames - manejo por columnas y por filas, sintaxis. Comentar pd.Series.\n",
    "  \n",
    "Anyway creo que la teoria de Pandas/Numpy se tendria que repartir a lo largo de todo el curso, porque es super complejo (basicamente Pandas es como casi todo el lenguaje R!)"
   ]
  },
  {
   "cell_type": "code",
   "execution_count": null,
   "metadata": {},
   "outputs": [],
   "source": []
  },
  {
   "cell_type": "markdown",
   "metadata": {},
   "source": [
    "## Depurando errores\n",
    "\n",
    "Esto es algo poco visto en cualquier campo, incluso en informatica. Hay que tener algo de teoria clara antes\n",
    "\n",
    "  + Unit testing\n",
    "  + Feature-driven development\n",
    "  \n",
    "Se explican por encima pero ya está, es algo muy complejo, pero esta bien saber de que va. Asimismo, seria explicar como depurar tu codigo:\n",
    "  + En Jupyter, puedes usar el comando especial `%pdb` dentro de una celda\n",
    "  + En un script de Python, puedes usar `assert` para unit testing, y el clasico `print` para debugear. Tambien está el modulo `logging`, MUY IMPORTANTE para Machine Learning."
   ]
  },
  {
   "cell_type": "code",
   "execution_count": 1,
   "metadata": {},
   "outputs": [],
   "source": [
    "# codigo\n",
    "\n",
    "# consejo: NO USAR parametros por defecto en las funciones - en Python da problemas! En todo caso, usar valores inmutables: None, ..."
   ]
  },
  {
   "cell_type": "markdown",
   "metadata": {},
   "source": [
    "## Python tipado\n",
    "\n",
    "Pues basicamente explicar por encima como funciona (desde Python 3.5, aunque funciona mejor en Python 3.7)"
   ]
  },
  {
   "cell_type": "code",
   "execution_count": 15,
   "metadata": {},
   "outputs": [
    {
     "data": {
      "text/plain": [
       "'Hello Andres Matesanz'"
      ]
     },
     "execution_count": 15,
     "metadata": {},
     "output_type": "execute_result"
    }
   ],
   "source": [
    "def hello(name: str) -> str:\n",
    "    # ojito! si usamos f\"Hello {name}\" si funciona con CUALQUIER tipo ¿por que?\n",
    "    return \"Hello \" + name\n",
    "\n",
    "hello(\"Andres Matesanz\")"
   ]
  },
  {
   "cell_type": "code",
   "execution_count": 16,
   "metadata": {},
   "outputs": [
    {
     "ename": "TypeError",
     "evalue": "can only concatenate str (not \"int\") to str",
     "output_type": "error",
     "traceback": [
      "\u001b[1;31m---------------------------------------------------------------------------\u001b[0m",
      "\u001b[1;31mTypeError\u001b[0m                                 Traceback (most recent call last)",
      "\u001b[1;32m<ipython-input-16-3be554ded816>\u001b[0m in \u001b[0;36m<module>\u001b[1;34m\u001b[0m\n\u001b[1;32m----> 1\u001b[1;33m \u001b[0mhello\u001b[0m\u001b[1;33m(\u001b[0m\u001b[1;36m1000\u001b[0m\u001b[1;33m)\u001b[0m\u001b[1;33m\u001b[0m\u001b[1;33m\u001b[0m\u001b[0m\n\u001b[0m",
      "\u001b[1;32m<ipython-input-15-908d09e6ca78>\u001b[0m in \u001b[0;36mhello\u001b[1;34m(name)\u001b[0m\n\u001b[0;32m      1\u001b[0m \u001b[1;32mdef\u001b[0m \u001b[0mhello\u001b[0m\u001b[1;33m(\u001b[0m\u001b[0mname\u001b[0m\u001b[1;33m:\u001b[0m \u001b[0mstr\u001b[0m\u001b[1;33m)\u001b[0m \u001b[1;33m->\u001b[0m \u001b[0mstr\u001b[0m\u001b[1;33m:\u001b[0m\u001b[1;33m\u001b[0m\u001b[1;33m\u001b[0m\u001b[0m\n\u001b[1;32m----> 2\u001b[1;33m     \u001b[1;32mreturn\u001b[0m \u001b[1;34m\"Hello \"\u001b[0m \u001b[1;33m+\u001b[0m \u001b[0mname\u001b[0m\u001b[1;33m\u001b[0m\u001b[1;33m\u001b[0m\u001b[0m\n\u001b[0m\u001b[0;32m      3\u001b[0m \u001b[1;33m\u001b[0m\u001b[0m\n\u001b[0;32m      4\u001b[0m \u001b[0mhello\u001b[0m\u001b[1;33m(\u001b[0m\u001b[1;34m\"Andres Matesanz\"\u001b[0m\u001b[1;33m)\u001b[0m\u001b[1;33m\u001b[0m\u001b[1;33m\u001b[0m\u001b[0m\n",
      "\u001b[1;31mTypeError\u001b[0m: can only concatenate str (not \"int\") to str"
     ]
    }
   ],
   "source": [
    "hello(1000)"
   ]
  },
  {
   "cell_type": "markdown",
   "metadata": {},
   "source": [
    "## Programacion funcional en Python\n",
    "\n",
    "Primero, explicar conceptos fundamentales de Programacion Funcional (rapidamente). De donde viene, que ventajas tiene respecto a la procedural (qué hacer vs cómo), y uso intensivo en el procesamiento de datos a gran escala. Explicar `map`, `filter` y `reduce`.\n",
    "\n",
    "Segundo, sobrevolar dos temas importantes pero no tan aplicables, que **permiten que el nº de errores se reduzca increiblemente**: inmutabilidad de las estructuras de datos y resultados opcionales ([Optional][optional], Result, Maybe).\n",
    "\n",
    "[optional]: https://code-examples.net/en/q/15ed631?__cf_chl_jschl_tk__=63bb6d3b8369e5d2e8d905d90504da095e64c120-1584470936-0-ASOj4AbcqPKcxaY9dP6Xs6F9Ae17-RwYcSr112jAjNbiXM1NceL4fYYq_1w_Uny5Ec02yAwGn-TpSa898z1zE9xAS4G6toWkXsftzMIEhukfXa7P172jJzBdUsJR_ttcA_q18d_kcuxg6fJyGd33BfmjvVrAuAEGtJj14l-57f0VtjP7nmJvwRpu1BLeILjcq4fOTtUcPCgfW6eGqacUjJnwDT5-0hUjbdsUbsxR-rNNyXue5p9mie0gZrzVWKzGnWPg8KIU_uXUP5bOq4V5GOQZQnt0g9TNM2cxKPpNMm5Y"
   ]
  },
  {
   "cell_type": "code",
   "execution_count": 20,
   "metadata": {},
   "outputs": [
    {
     "name": "stdout",
     "output_type": "stream",
     "text": [
      "(1) [1, 4, 9, 16, 25, 36, 49, 64, 81] == [1, 4, 9, 16, 25, 36, 49, 64, 81]\n",
      "(2) Is 1 equal to None? False\n"
     ]
    }
   ],
   "source": [
    "from typing import Optional\n",
    "\n",
    "ls = list(range(1,10))\n",
    "\n",
    "print(\"(1) {} == {}\".format([x ** 2 for x in ls], list(map(lambda x: x**2, ls))))\n",
    "\n",
    "def isIntNone(var:Optional[int]) -> bool:\n",
    "    return var is None\n",
    "\n",
    "print(\"(2) Is 1 equal to None? {}\".format(isIntNone(1)))"
   ]
  },
  {
   "cell_type": "markdown",
   "metadata": {},
   "source": [
    "Otra forma de jugar con la programacion funcional es **valores por defecto** en vez de lanzar errores. Esto, por una parte, puede volver complicado a la aplicación si usamos varios tipos de errores; por otra parte, al no elevar errores podemos controlar mas facilmente el flujo del programa.\n",
    "\n",
    "Una de las maneras mas sencillas de verlo es con `dict.pop` y `dict.get`: https://docs.python.org/3/library/stdtypes.html#dict.pop"
   ]
  },
  {
   "cell_type": "code",
   "execution_count": 4,
   "metadata": {},
   "outputs": [
    {
     "ename": "KeyError",
     "evalue": "'cuatro'",
     "output_type": "error",
     "traceback": [
      "\u001b[1;31m---------------------------------------------------------------------------\u001b[0m",
      "\u001b[1;31mKeyError\u001b[0m                                  Traceback (most recent call last)",
      "\u001b[1;32m<ipython-input-4-d80e7d088963>\u001b[0m in \u001b[0;36m<module>\u001b[1;34m\u001b[0m\n\u001b[0;32m      1\u001b[0m \u001b[0mun_diccionario\u001b[0m \u001b[1;33m=\u001b[0m \u001b[0mdict\u001b[0m\u001b[1;33m(\u001b[0m\u001b[0muno\u001b[0m\u001b[1;33m=\u001b[0m\u001b[1;36m1\u001b[0m\u001b[1;33m,\u001b[0m \u001b[0mdos\u001b[0m\u001b[1;33m=\u001b[0m\u001b[1;36m2\u001b[0m\u001b[1;33m,\u001b[0m \u001b[0mtres\u001b[0m\u001b[1;33m=\u001b[0m\u001b[1;36m3\u001b[0m\u001b[1;33m)\u001b[0m\u001b[1;33m\u001b[0m\u001b[1;33m\u001b[0m\u001b[0m\n\u001b[0;32m      2\u001b[0m \u001b[1;33m\u001b[0m\u001b[0m\n\u001b[1;32m----> 3\u001b[1;33m \u001b[0mresult\u001b[0m \u001b[1;33m=\u001b[0m \u001b[0mun_diccionario\u001b[0m\u001b[1;33m.\u001b[0m\u001b[0mpop\u001b[0m\u001b[1;33m(\u001b[0m\u001b[1;34m\"cuatro\"\u001b[0m\u001b[1;33m)\u001b[0m\u001b[1;33m\u001b[0m\u001b[1;33m\u001b[0m\u001b[0m\n\u001b[0m\u001b[0;32m      4\u001b[0m \u001b[0mprint\u001b[0m\u001b[1;33m(\u001b[0m\u001b[0mresult\u001b[0m\u001b[1;33m)\u001b[0m\u001b[1;33m\u001b[0m\u001b[1;33m\u001b[0m\u001b[0m\n",
      "\u001b[1;31mKeyError\u001b[0m: 'cuatro'"
     ]
    }
   ],
   "source": [
    "un_diccionario = dict(uno=1, dos=2, tres=3)\n",
    "\n",
    "result = un_diccionario.pop(\"cuatro\")\n",
    "print(result)"
   ]
  },
  {
   "cell_type": "code",
   "execution_count": 5,
   "metadata": {},
   "outputs": [
    {
     "name": "stdout",
     "output_type": "stream",
     "text": [
      "None\n"
     ]
    }
   ],
   "source": [
    "result = un_diccionario.pop(\"cuatro\", None)\n",
    "print(result)"
   ]
  },
  {
   "cell_type": "markdown",
   "metadata": {},
   "source": [
    "Por ultimo, resulta interesante conocer las **funciones parciales**. Ademas de poder pasar tipos basicos e instancias de objetos, tambien podemos pasar **funciones**. Esto se llama `functions as first citizens`. \n",
    "\n",
    "Esto tambien lo vemos al realizar `map`, `filter` y `reduce`."
   ]
  },
  {
   "cell_type": "markdown",
   "metadata": {},
   "source": [
    "## Manejo de errores\n",
    "\n",
    "asdalksdjlqwe"
   ]
  },
  {
   "cell_type": "code",
   "execution_count": null,
   "metadata": {},
   "outputs": [],
   "source": []
  },
  {
   "cell_type": "markdown",
   "metadata": {},
   "source": [
    "## Libreria Estandar de Python\n",
    "\n",
    "Explicar un poquito que paquetes hay incluido, asi como las funciones `built-in`\n",
    "\n",
    "+ set, dict, list, round, len ... como `built-in`\n",
    "+ datetime, time, random, re, ... como STL"
   ]
  },
  {
   "cell_type": "code",
   "execution_count": 6,
   "metadata": {},
   "outputs": [],
   "source": [
    "import re as regex\n",
    "import random as rnd, time as t\n",
    "from datetime import datetime as dtime"
   ]
  },
  {
   "cell_type": "markdown",
   "metadata": {},
   "source": [
    "## ¿Conoces JupyterLab?\n",
    "\n",
    "Seguro que ya conoces los *Jupyter Notebooks* 😉 ¿No crees que son increíbles? Para todos los que ya hemos programado en Python, la verdad es que nos ayuda un montón para prototipar aplicaciones y documentarlas de manera sencilla. Aún así, existen otras características más avanzadas, que permiten aprovechar al máximo la herramienta (sin tampoco meterse en configuraciones y tal). **Meet JupyterLab**.\n",
    "\n",
    "Basicamente, la idea de JupyterLab es la de usar un IDE que ejecute *notebooks*. Mas o menos como si pudieses usar varios *notebooks* a la vez. Además, tiene buscador de archivos, add-ons y, al igual que Jupyter, soporta infinitos lenguajes 🤩 sí sí, puedes ejecutar *notebooks* de Python 3.2 y 3.6 😂😂 y de Matlab, R y Java. ¡De todo!\n",
    "\n",
    "Otros puntos a tener en cuenta que mejoran la experiencia de Jupyter Notebooks:\n",
    "  + Puedes importar el código de otro *notebook* [en el *notebook* actual que estés usando](https://jupyter-notebook.readthedocs.io/en/stable/examples/Notebook/Importing%20Notebooks.html).\n",
    "  + Los comandos especiales que hemos usado previamente se llaman *magics*. [Aquí tienes una lista con todos ellos!](https://ipython.readthedocs.io/en/stable/interactive/magics.html)."
   ]
  },
  {
   "cell_type": "code",
   "execution_count": null,
   "metadata": {},
   "outputs": [],
   "source": []
  },
  {
   "cell_type": "markdown",
   "metadata": {},
   "source": [
    "## RL y modelos\n",
    "\n",
    "(abre este markdown, la lista esta oculta)\n",
    "\n",
    "+ Model Depot\n",
    "+ Papers with Code\n",
    "+ Model Zoo\n",
    "\n",
    "Librerias que esten usando RL?\n",
    "\n",
    "+ OpenAI gym. They also have [baselines][baseline].\n",
    "+ IntelAI [coach][coach].\n",
    "+ Unity [ML Agents][mlagents] (aunque es mas general).\n",
    "+ [PARL](https://github.com/PaddlePaddle/PARL).\n",
    "\n",
    "Librerias a tener en cuenta a la hora de desarrollar modelos:\n",
    "\n",
    "+ [Neptune][neptune], una herramienta que permite automatizar y comparar varios *workflows* o ejecuciones. En este caso, podriamos comparar los 10 mejores episodios pj.\n",
    "+ [Tensorboard][tfboard] permite hacer algo similar para algoritmos en TensorFlow\n",
    "\n",
    "[tfboard]: https://www.tensorflow.org/tensorboard\n",
    "[neptune]: https://neptune.ai/\n",
    "[baseline]: https://github.com/openai/baselines\n",
    "[coach]: https://nervanasystems.github.io/coach/\n",
    "[ModelDepot]: https://modeldepot.io/search\n",
    "[PapersWithCode]: https://www.paperswithcode.com/\n",
    "[ModelZoo]: https://modelzoo.co/\n",
    "[mlagents]: https://unity3d.com/machine-learning"
   ]
  },
  {
   "cell_type": "markdown",
   "metadata": {},
   "source": [
    "## Paralelismo en Python\n",
    "\n",
    "Normalmente, Python corre en un solo procesador. Ésto es debido al GIL (*Global Interpreter Lock*), cosa [que muchos odian][charla1]. Esto limita su uso para algoritmos de aprendizaje automático, aunque actualmente la mayoría de librerias (Tensorflow, PyTorch,...) tienen modulos para computacion en paralelo.\n",
    "\n",
    "### Computacion en Paralelo\n",
    "\n",
    "Aquí hay que tener en cuenta dos cosas: la posibilidad de que el algoritmo permita (teoricamente) procesamiento en paralelo, y que exista una coordinacion a la hora de leer/escribir datos. Los datos tienen *locks*, lo cual es muy importante. Ademas, hay que tener en cuenta las ideas de lenguaje funcional: MapReduce.\n",
    "\n",
    "### Computacion distribuida\n",
    "\n",
    "Esto es otra movida: consiste en distribuir la computacion entre varios equipos. Aqui entran en juego la conectividad y la coordinacion entre equipos. Lo más ventajoso es que permite explotar el paralelismo para que se ejecuten en dos o mas dispositivos. En Python hay librerias como `ray` o `dash` que te permiten hacerlo de manera sencilla.\n",
    "\n",
    "[charla1]: https://www.youtube.com/watch?v=QRF1637j6NU"
   ]
  },
  {
   "cell_type": "code",
   "execution_count": null,
   "metadata": {},
   "outputs": [],
   "source": []
  },
  {
   "cell_type": "markdown",
   "metadata": {},
   "source": [
    "## Visualizacion de datos\n",
    "\n",
    "Normalmente en Python se usa `matplotlib`, una libreria para visualizacion de datos cientificos. Aun asi, yo no soy muy fan, pues es muy similar a la forma de dibujar graficos de MatLab 🙂 Aquí hay algunas alternativas:\n",
    "\n",
    "+ [Plotly](https://plot.ly/), una libreria multiplataforma, que permite crear graficos interactivos (usa JS por detras jsjs). Además, permite interoperabilidad entre Python, R y Julia 🤩\n",
    "+ [Bokeh](https://docs.bokeh.org/en/latest/) es una alternativa muy similar a Plotly.\n",
    "+ Si habeis programado en R, conocereis `ggplot2`. En Python tienes [plotnine](https://plotnine.readthedocs.io/en/stable/index.html) y [ggpy](https://yhat.github.io/ggpy/), que usan casi la misma API.\n",
    "+ [Altair Vega](https://altair-viz.github.io/gallery/simple_bar_chart.html) tambien usa una sintaxis modular para componer graficos."
   ]
  },
  {
   "cell_type": "code",
   "execution_count": 5,
   "metadata": {},
   "outputs": [],
   "source": [
    "ls = (x for x in range(10))\n",
    "ts = [x for x in range(10)]"
   ]
  },
  {
   "cell_type": "code",
   "execution_count": 16,
   "metadata": {},
   "outputs": [],
   "source": [
    "def take_eager(_list, n):\n",
    "    return _list[0:n]\n",
    "\n",
    "def take_lazy(_generator, n):\n",
    "    result = []\n",
    "    for i in range(n):\n",
    "        head = next(_generator)\n",
    "        result.append(head)\n",
    "    return result"
   ]
  },
  {
   "cell_type": "code",
   "execution_count": 17,
   "metadata": {},
   "outputs": [
    {
     "data": {
      "text/plain": [
       "[0, 1, 2, 3, 4]"
      ]
     },
     "execution_count": 17,
     "metadata": {},
     "output_type": "execute_result"
    }
   ],
   "source": [
    "take_eager(ts, 5)"
   ]
  },
  {
   "cell_type": "code",
   "execution_count": 18,
   "metadata": {},
   "outputs": [
    {
     "data": {
      "text/plain": [
       "[0, 1, 2, 3, 4]"
      ]
     },
     "execution_count": 18,
     "metadata": {},
     "output_type": "execute_result"
    }
   ],
   "source": [
    "take_lazy(ls, 5)"
   ]
  },
  {
   "cell_type": "code",
   "execution_count": 46,
   "metadata": {},
   "outputs": [],
   "source": [
    "ts = [x for x in range(int(1e8))]"
   ]
  },
  {
   "cell_type": "code",
   "execution_count": 67,
   "metadata": {},
   "outputs": [
    {
     "name": "stdout",
     "output_type": "stream",
     "text": [
      "2.04 µs ± 187 ns per loop (mean ± std. dev. of 7 runs, 100000 loops each)\n"
     ]
    }
   ],
   "source": [
    "%timeit _ = take_eager(ts, int(1e3))"
   ]
  },
  {
   "cell_type": "code",
   "execution_count": 68,
   "metadata": {},
   "outputs": [
    {
     "name": "stdout",
     "output_type": "stream",
     "text": [
      "931 ns ± 22.9 ns per loop (mean ± std. dev. of 7 runs, 1000000 loops each)\n"
     ]
    }
   ],
   "source": [
    "ls = (x for x in range(int(1e8)))\n",
    "%timeit _ = take_lazy(ls, 5)"
   ]
  },
  {
   "cell_type": "code",
   "execution_count": null,
   "metadata": {},
   "outputs": [],
   "source": [
    "https://towardsdatascience.com/the-top-5-magic-commands-for-jupyter-notebooks-2bf0c5ae4bb8"
   ]
  }
 ],
 "metadata": {
  "kernelspec": {
   "display_name": "Python 3",
   "language": "python",
   "name": "python3"
  },
  "language_info": {
   "codemirror_mode": {
    "name": "ipython",
    "version": 3
   },
   "file_extension": ".py",
   "mimetype": "text/x-python",
   "name": "python",
   "nbconvert_exporter": "python",
   "pygments_lexer": "ipython3",
   "version": "3.7.6"
  }
 },
 "nbformat": 4,
 "nbformat_minor": 4
}
