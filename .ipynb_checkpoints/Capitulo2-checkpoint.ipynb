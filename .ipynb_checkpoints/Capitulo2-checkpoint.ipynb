{
 "cells": [
  {
   "cell_type": "markdown",
   "metadata": {},
   "source": [
    "# Capítulo 1: un padawan de Python\n",
    "_Del curso \"Python y Machine Learning: de 0 a 100 con Reinforcement Learning\"_ <br/>\n",
    "_24 de Marzo de 2020_\n",
    "\n",
    "Duración estimada: **2 horas** en streaming.\n",
    "\n",
    "---\n",
    "<br/>\n",
    "\n",
    "> DISCLAIMER: No soy un maestro de Python\n",
    "\n",
    "<br/>\n",
    "\n",
    "**Hey!** Antes de comenzar, tienes 3 modos de obtener este *notebook*. \n",
    "\n",
    "1. A través de GitHub, en el repositorio [@espetro/pyCourse](). Duplicas el repositorio (bien descargas el `.zip` o ejecutas `git clone`) y usas el *notebook* en local.\n",
    "2. A través de Google Colab, siguiendo [este enlace](https://colab.research.google.com/).\n",
    "3. Otra alternativa para no iniciar sesión es usar Binder: [aquí el enlace](https://mybinder.org/).\n",
    "\n",
    "<br/>\n",
    "\n",
    "<img src=\"https://i.imgur.com/yAwThCj.jpg\" width=\"30%\" style=\"margin-left:25em\"/>\n",
    "\n",
    "Espero que todo funcione 🤞🤞\n",
    "\n",
    "<br/>\n",
    "\n",
    "---\n",
    "\n",
    "<br/>\n",
    "\n",
    "En la anterior clase pudimos iniciarnos con Python, el lenguaje más *cool* del último lustro. Supiste cómo instalar Python, qué es Anaconda y para qué puede sernos útil, y empezaste a programar en Python.\n",
    "\n",
    "En este bloque, entenderás mejor por qué Python está partiendo la pana. Verás conocimientos fundamentales para cualquier desarrollador Python, y en concreto, iremos orientándonos a ser desarrollador Python para Machine Learning.\n",
    "\n",
    "\n",
    "Como quizás ya sepas, Python no solo se usa para Machine Learning. Pero... ¿y por qué se usa?"
   ]
  },
  {
   "cell_type": "markdown",
   "metadata": {},
   "source": [
    "### Por qué usamos Python\n",
    "\n",
    "<img src=\"https://i.imgur.com/Xt1NL3Y.png\" width=\"60%\"/>\n",
    "\n",
    "<br/>\n",
    "\n",
    "Creo que este punto es importante porque, por un lado, **te hace mejor programador**, al razonar los motivos por los que programas en `X` y no solo porque *mi empresa o universidad trabaja con X*; y por otro lado, puedes lograr a **aprovechar las ventajas** del lenguaje que usas.\n",
    "\n",
    "+ Es un lenguaje enfocado en la **legibilidad**, trabajando con un gran subconjunto de palabras del inglés. De esta manera, proporciona un <u>balance justo entre productividad y mantenimiento</u>\n",
    "> Fíjate! En Python no usamos corchetes `{}` para definir funciones ni bucles\n",
    "\n",
    "<br/>\n",
    "\n",
    "+ Es un lenguaje **multiparadigma**, por lo que permite programar usando distintos modelos de programación, como el *orientado a objetos* o *funcional*. Además, es un lenguaje **tipado dinámicamente**, aunque deja abierta la posibilidad de tiparlo estáticamente.\n",
    "> Fíjate! Al contrario que en Java o C, para guardar un número entero, no tienes que asignarle el tipo `int`. Por suerte, **sí está fuertemente tipado**, lo que hace que no puedas, por ejemplo, sumar `1 + \"1\"`, cosa que sí ocurre en JavaScript.\n",
    "\n",
    "<br/>\n",
    "\n",
    "+ Tiene una **librería estándar robusta**, lo que permite desarrollar nuevas librerias de manera más sencilla. Además, cuenta con una **gran comunidad** por detrás, lo que ayuda al mantenimiento y adaptación del lenguaje.\n",
    "> Fíjate! El lenguaje es de código abierto, por lo que [es la comunidad la que propone cambios][peps].\n",
    "\n",
    "<br/>\n",
    "\n",
    "+ Por último, tiene gran cabida en la gran mayoría de plataformas, como ya pudisteis comprobobar en el anterior capítulo 😉 Si bien es cierto que no es tan rapido como C o C++, la posibilidad de compilar en tiempo de ejecución y de poder ejecutar algunas tareas en C o C++  mejora bastante su rendimiento.\n",
    "> Fíjate! Python es uno de los lenguajes base de las distribuciones Linux, estando presente también en MacOS.\n",
    "\n",
    "<br/>\n",
    "\n",
    "\n",
    "Por ésto y por otras cosas, es porque está en varios rankings ([PYPL][pypl], [TIOBE][tiobe]) como uno de los lenguajes más populares.\n",
    "\n",
    "---\n",
    "\n",
    "[pypl]: http://pypl.github.io/PYPL.html\n",
    "[tiobe]: https://www.tiobe.com/tiobe-index/\n",
    "[peps]: https://www.python.org/dev/peps/"
   ]
  },
  {
   "cell_type": "markdown",
   "metadata": {},
   "source": [
    "### Micro apunte sobre ayuda\n",
    "\n",
    "De aquí en adelante veremos algunos bloques teóricos y prácticos complejos. En Python, puedes usar **`help()`** sobre cualquier variable, palabra predefinida u objeto para obtener más información."
   ]
  },
  {
   "cell_type": "code",
   "execution_count": 62,
   "metadata": {},
   "outputs": [
    {
     "name": "stdout",
     "output_type": "stream",
     "text": [
      "Help on NoneType object:\n",
      "\n",
      "class NoneType(object)\n",
      " |  Methods defined here:\n",
      " |  \n",
      " |  __bool__(self, /)\n",
      " |      self != 0\n",
      " |  \n",
      " |  __repr__(self, /)\n",
      " |      Return repr(self).\n",
      " |  \n",
      " |  ----------------------------------------------------------------------\n",
      " |  Static methods defined here:\n",
      " |  \n",
      " |  __new__(*args, **kwargs) from builtins.type\n",
      " |      Create and return a new object.  See help(type) for accurate signature.\n",
      "\n"
     ]
    }
   ],
   "source": [
    "help(None)"
   ]
  },
  {
   "cell_type": "markdown",
   "metadata": {},
   "source": [
    "### Micro apuntes sobre formateo de texto\n",
    "\n",
    "Podemos formatear el texto en Python de varias maneras. Veamos cuáles hay:"
   ]
  },
  {
   "cell_type": "code",
   "execution_count": 44,
   "metadata": {},
   "outputs": [
    {
     "name": "stdout",
     "output_type": "stream",
     "text": [
      "Hoy es 24 de Marzo de 2020\n",
      "Hoy es 24 de Marzo de 2020\n",
      "Hoy es 24 de Marzo de 2020\n",
      "Hoy es 24 de Marzo de 2020\n",
      "Hoy es 24 de Marzo de 2020\n"
     ]
    }
   ],
   "source": [
    "print(\"Hoy es\", 24, \"de Marzo de\", 2020)           # sintaxis clasica\n",
    "print(\"Hoy es %d de Marzo de %d\" % (24, 2020))     # sintaxis similar a C (printf, sprintf)\n",
    "print(\"Hoy es\" + \" 24 \" + \"de Marzo de\" + \" 2020\") # sintaxis similar a Java (System.out.print)\n",
    "print(\"Hoy es {} de Marzo de {}\".format(24, 2020))\n",
    "\n",
    "dia, anyo = 24, 2020\n",
    "print(f\"Hoy es {dia} de Marzo de {anyo}\")          # sintaxis similar a JS ES6 y Bash [solo disponible a partir de 3.6]"
   ]
  },
  {
   "cell_type": "markdown",
   "metadata": {},
   "source": [
    "\n",
    "### Micro-recordatorio del capítulo 0: Tipos de datos\n",
    "\n",
    "¿Recuerdas los tipos de datos principales que dimos en el capítulo 0?\n",
    "\n",
    "<img src=\"https://i.imgur.com/cCJ7SSD.png\" width=\"60%\"/>\n",
    "\n",
    "Todos estos tipos se pueden comprobar con la función `type()`. Además, hay que tener en cuenta otros tipos fundamentales:\n",
    "\n",
    "+ ¿Conoces `null`? En Python no existe, pero tenemos **`None`**, cuyo tipo es `NoneType`.\n",
    "\n",
    "+ Toda clase que creemos se considera un tipo nuevo. Por ello, toda instancia del objeto es del tipo de la clase.\n",
    "> Si tenemos una clase `Persona` y una instancia/objeto `pepe = Persona(edad=32, altura=180)`, `type(pepe)` es `Persona`\n",
    "\n",
    "+ Además, en Python [**todas las funciones son objetos**][f]. Esto se conoce como *First-Class Functions* y permite, entre otras cosas, usar las variables como parámetros para las funciones, y almacenar las funciones en bases de datos.\n",
    "\n",
    "Podeis ver todos los tipos [aquí][t].\n",
    "\n",
    "### Cómo comprobar la equivalencia de tipos y datos en Python\n",
    "\n",
    "Muy simple: en vez de usar `==`, en Python podemos usar `is`:\n",
    "\n",
    "```python\n",
    "lista1 = [1, 3, \"5\", 7, \"9\", None]\n",
    "\n",
    "filtrar_errores = [x for x in lista1 if x is not None]\n",
    "\n",
    "sumar_dos = [x + 2 for x in filtrar_errores if x is int]\n",
    "\n",
    "print(sumar_dos)\n",
    "```\n",
    "\n",
    "¿Qué nos dará?\n",
    "\n",
    "[f]: https://dbader.org/blog/python-first-class-functions\n",
    "[t]: https://docs.python.org/3.7/library/types.html"
   ]
  },
  {
   "cell_type": "code",
   "execution_count": 50,
   "metadata": {},
   "outputs": [
    {
     "data": {
      "text/plain": [
       "__main__.Persona"
      ]
     },
     "execution_count": 50,
     "metadata": {},
     "output_type": "execute_result"
    }
   ],
   "source": [
    "\n",
    "\n",
    "\n",
    "\n",
    "class Persona:\n",
    "    def __init__(self, edad, altura):\n",
    "        self.edad = edad\n",
    "        self.altura = altura\n",
    "    \n",
    "    def info(self):\n",
    "        print(f\"Mi edad es {self.edad} y mi altura es {self.altura}\")\n",
    "        \n",
    "pepe = Persona(32, 180)\n",
    "type(pepe)"
   ]
  },
  {
   "cell_type": "code",
   "execution_count": 48,
   "metadata": {},
   "outputs": [
    {
     "data": {
      "text/plain": [
       "method"
      ]
     },
     "execution_count": 48,
     "metadata": {},
     "output_type": "execute_result"
    }
   ],
   "source": [
    "type(pepe.info)"
   ]
  },
  {
   "cell_type": "code",
   "execution_count": 49,
   "metadata": {},
   "outputs": [
    {
     "data": {
      "text/plain": [
       "function"
      ]
     },
     "execution_count": 49,
     "metadata": {},
     "output_type": "execute_result"
    }
   ],
   "source": [
    "type(Persona.info)"
   ]
  },
  {
   "cell_type": "code",
   "execution_count": 18,
   "metadata": {},
   "outputs": [
    {
     "data": {
      "text/plain": [
       "module"
      ]
     },
     "execution_count": 18,
     "metadata": {},
     "output_type": "execute_result"
    }
   ],
   "source": [
    "import re\n",
    "type(re)"
   ]
  },
  {
   "cell_type": "code",
   "execution_count": 16,
   "metadata": {},
   "outputs": [
    {
     "data": {
      "text/plain": [
       "generator"
      ]
     },
     "execution_count": 16,
     "metadata": {},
     "output_type": "execute_result"
    }
   ],
   "source": [
    "type((x for x in range(10)))"
   ]
  },
  {
   "cell_type": "code",
   "execution_count": 46,
   "metadata": {},
   "outputs": [
    {
     "data": {
      "text/plain": [
       "list"
      ]
     },
     "execution_count": 46,
     "metadata": {},
     "output_type": "execute_result"
    }
   ],
   "source": [
    "type([x for x in range(10)])"
   ]
  },
  {
   "cell_type": "code",
   "execution_count": 51,
   "metadata": {},
   "outputs": [
    {
     "data": {
      "text/plain": [
       "NoneType"
      ]
     },
     "execution_count": 51,
     "metadata": {},
     "output_type": "execute_result"
    }
   ],
   "source": [
    "type(None)"
   ]
  },
  {
   "cell_type": "markdown",
   "metadata": {},
   "source": [
    "---\n",
    "\n",
    "## Python ¿estáticamente tipado? 😱😱\n",
    "\n",
    "¡Sí sí sí! [**Aquí teneis la chuleta**][chuleta]. Realmente el tipado es estático, si no que se comprueba antes de que sea ejecutado, algo así [como pasa con JavaScript y TypeScript][ts]. Esta posibilidad **se introduce en [Python 3.5][pep484]** y se mejora en las siguientes versiones.\n",
    "\n",
    "Usaremos el [módulo `typing`][typing] para ello\n",
    "\n",
    "[why]: https://wiki.python.org/moin/Why%20is%20Python%20a%20dynamic%20language%20and%20also%20a%20strongly%20typed%20language\n",
    "[duck]: https://realpython.com/lessons/duck-typing/\n",
    "[chuleta]: https://www.pythonsheets.com/notes/python-typing.html\n",
    "[ts]: https://www.typescriptlang.org/docs/handbook/typescript-in-5-minutes.html\n",
    "[pep484]: https://www.python.org/dev/peps/pep-0484/\n",
    "[typing]: https://docs.python.org/3/library/typing.html"
   ]
  },
  {
   "cell_type": "code",
   "execution_count": 92,
   "metadata": {},
   "outputs": [],
   "source": [
    "from datetime import datetime as dtime\n",
    "\n",
    "class Persona:\n",
    "    duracion_anyo: int = 365\n",
    "    \n",
    "    def __init__(self, nombre: str, altura: float, fecha_de_nacimiento: str):\n",
    "        self.nombre = nombre\n",
    "        self.altura = altura\n",
    "        self.fecha_de_nacimiento = dtime.strptime(fecha_de_nacimiento, \"%Y-%m-%d\")\n",
    "        \n",
    "    def wave(self):\n",
    "        diferencia = dtime.now() - self.fecha_de_nacimiento\n",
    "        edad_actual = diferencia.days // Persona.duracion_anyo\n",
    "        \n",
    "        print(f\"Mi nombre es {self.nombre}, tengo {edad_actual} años y mido {self.altura} cms.\")"
   ]
  },
  {
   "cell_type": "code",
   "execution_count": 93,
   "metadata": {},
   "outputs": [
    {
     "name": "stdout",
     "output_type": "stream",
     "text": [
      "Mi nombre es Quino, tengo 23 años y mido 181 cms.\n"
     ]
    }
   ],
   "source": [
    "# Necesitamos insertar la fecha en el formato \"YYYY-MM-DD\" ! \n",
    "Quino = Persona(\"Quino\", \"181\", \"1996-11-11\")\n",
    "\n",
    "Quino.wave()"
   ]
  },
  {
   "cell_type": "markdown",
   "metadata": {},
   "source": [
    "---\n",
    "\n",
    "## *Si quieres ir rápido, programa solo. Si quieres llegar lejos, programa con los demás*\n",
    "\n",
    "*Worst translation ever, but the point is*: **Documenta y testea**. Esto no es algo unico de Python, pero hacemos énfasis porque en Python prima la **legibilidad**.\n"
   ]
  },
  {
   "cell_type": "code",
   "execution_count": 50,
   "metadata": {},
   "outputs": [
    {
     "data": {
      "text/plain": [
       "__main__.Persona"
      ]
     },
     "execution_count": 50,
     "metadata": {},
     "output_type": "execute_result"
    }
   ],
   "source": [
    "class Persona:\n",
    "    \"\"\"Permite representar personas físicas\"\"\"\n",
    "    def __init__(self, nombre, edad, altura):\n",
    "        \"\"\"\n",
    "        @param nombre: el nombre de la persona\n",
    "        @param edad: su edad\n",
    "        @param altura: su altura, en centrimetros\n",
    "        \"\"\"\n",
    "        self.nombre = nombre\n",
    "        self.edad = edad\n",
    "        self.altura = altura\n",
    "    \n",
    "    def info(self):\n",
    "        \"\"\"Dibuja la información de la persona por pantalla\"\"\"\n",
    "        print(f\"Mi edad es {self.edad} y mi altura es {self.altura}\") # es preferible este 'print' a\n",
    "        # print(\"Mi edad es %d y mi altura es %.2f\" % (self.edad, self.altura))"
   ]
  },
  {
   "cell_type": "markdown",
   "metadata": {},
   "source": [
    "#### Crea código legible\n",
    "\n",
    "Es lo que llaman *el Zen de Python*. Es [uno de los primeros PEP][pep20] creados y sintetiza las ideas para crear codigo legible.\n",
    "\n",
    "```md\n",
    "Lo explícito es mejor que lo implícito.\n",
    "Lo plano es mejor que lo enrevesado.\n",
    "Los errores nunca deberían de ser silenciados.\n",
    "Ahora es mejor que nunca.\n",
    "```\n",
    "\n",
    "Otro de los PEP fundamentales [se centra en la guía de estilo para Python][pep08]: el **PEP8 es una de las guías fundamentales** para estandarizar codigo en Python.\n",
    "\n",
    "[pep20]: https://www.python.org/dev/peps/pep-0020/\n",
    "[pep08]: https://www.python.org/dev/peps/pep-0008/"
   ]
  },
  {
   "cell_type": "markdown",
   "metadata": {},
   "source": [
    "#### Documenta\n",
    "\n",
    "Tanto si es para desarrollar herramientas más complejas por ti mismo como si estás participando en un proyecto con otros desarrolladores, documentar \"correctamente\" es esencial. Python tiene su propia guía de estilo para la documentación, **basada en reStructuredText y condensada en el [PEP287][pep287]**.\n",
    "\n",
    "De manera simple, reStructuredText es un lenguaje de texto enriquecido que compila a HTML. Veámoslo:\n",
    "\n",
    "[pep287]: https://www.python.org/dev/peps/pep-0287/"
   ]
  },
  {
   "cell_type": "code",
   "execution_count": null,
   "metadata": {},
   "outputs": [],
   "source": []
  },
  {
   "cell_type": "markdown",
   "metadata": {},
   "source": [
    "#### Testea\n",
    "\n",
    "Explicar POR ENCIMA lo del Unit Testing, `assert` y poco más (el TDD?)"
   ]
  },
  {
   "cell_type": "markdown",
   "metadata": {},
   "source": [
    "#### Depuración de errores\n",
    "\n",
    "Explicar el `pdb` y algo de linters"
   ]
  },
  {
   "cell_type": "markdown",
   "metadata": {},
   "source": [
    "---\n",
    "\n",
    "## Estructuras de datos avanzadas\n",
    "\n",
    "\n",
    "### Numpy"
   ]
  },
  {
   "cell_type": "code",
   "execution_count": null,
   "metadata": {},
   "outputs": [],
   "source": []
  },
  {
   "cell_type": "markdown",
   "metadata": {},
   "source": [
    "### Pandas\n",
    "\n",
    "asdasd"
   ]
  },
  {
   "cell_type": "code",
   "execution_count": null,
   "metadata": {},
   "outputs": [],
   "source": []
  },
  {
   "cell_type": "markdown",
   "metadata": {},
   "source": [
    "---\n",
    "\n",
    "## Progamación funcional\n",
    "\n",
    "### Inmutabilidad de datos\n",
    "\n",
    "### Funciones anónimas o *lambda*\n",
    "\n",
    "### Map, Filter y Reduce\n",
    "\n",
    "### *Lazy evaluation*\n",
    "\n",
    "Quizás ya te hayas preguntado <u>por qué Python compila código que no es correcto</u>, siempre que esté dentro de funciones o clases. Ésto es porque **Python usa evaluación perezosa** dentro de funciones. Esta funcionalidad no solo está en la evaluación de funciones, sino también en algo llamado **generadores**. [En este artículo][lazy] se arroja más información sobre el tema.\n",
    "\n",
    "### Manejo de errores\n",
    "\n",
    "[lazy]: https://swizec.com/blog/python-and-lazy-evaluation/swizec/5148"
   ]
  },
  {
   "cell_type": "markdown",
   "metadata": {},
   "source": [
    "---\n",
    "\n",
    "## Y de aquí.. ¿a Pekín?\n",
    "\n",
    "Creo que el contenido del capítulo ya es suficientemente denso como para seguir avanzando, así que dejo unos cuantos recursos por si quereis seguir avanzando:\n",
    "\n",
    "### Extras\n",
    "\n",
    "+ Expresiones Regulares. Si no sabes lo que son, [Mozilla tiene un artículo muy bueno](https://developer.mozilla.org/es/docs/Web/JavaScript/Guide/Regular_Expressions) (practica con [RegExr, es genial!](https://regexr.com/)). En Python funcionan [de otro modo](http://buhoprogramador.com/entrada/10/expresiones-regulares-en-python). Para más avanzados, [aquí](https://www.pythonsheets.com/notes/python-rexp.html).\n",
    "\n",
    "+ Cómo funciona la Lectura/Escritura de archivos. Más [aquí](https://pythonista.io/cursos/py101/escritura-y-lectura-de-archivos).\n",
    "\n",
    "+ Ligeramente ligado con lo anterior, y sobre todo con estructuras de datos, están los **generadores**. [En este artículo](https://alvarohurtado.es/2013/08/31/generadores-en-python/) tienes una explicación de qué son y para qué sirven. Para avanzados: [aquí](https://www.pythonsheets.com/notes/python-generator.html).\n",
    "\n",
    "+ Los **decoradores** son algo muy interesante, algo único de Python. Es algo que me estoy mirando recientemente y permiten, además de mejorar la documentación de tu código, pre-procesarlo para poder añadir funcionalidades extras. Algo así **como las macros de Excel o Rust**. Para iniciarte: [aquí](https://codingornot.com/python-que-es-un-decorador). Para avanzados: [aquí](https://realpython.com/primer-on-python-decorators/).\n",
    "\n",
    "### Plataformas para practicar\n",
    "\n",
    "<img src=\"https://i.imgur.com/3PHSZV5.png\" width=\"60%\"/>\n",
    "\n",
    "+ [Codewars](https://www.codewars.com/) permite practicar tus conocimientos de programación entorno a varios problemas - todo problema puedes resolverlo en más de 20 lenguajes: Python, Haskell, Java, ...\n",
    "\n",
    "+ Otras plataformas como [Exercism](https://exercism.io/) o [Leetcode](https://leetcode.com/) se centran en *tracks* o cursos completos, que tratan temas como Algoritmia, problemas de decisión o búsqueda.\n",
    "\n",
    "+ Incluso Google ofrece [un curso de Python](https://developers.google.com/edu/python). De cara a los próximos capítulos, [**recomiendo este libro sobre Python y Data Science**](https://jakevdp.github.io/PythonDataScienceHandbook/), totalmente gratuito de manera online.\n",
    "\n",
    "De todas formas, ésto solo es un pequeño grano en el mar de recursos que hay. Te recomiendo que hagas [una búsqueda en GitHub](https://github.com/search?q=python), o [pruebes en PyPi](https://pypi.org/).\n",
    "\n",
    "### Cosillas feas de Python\n",
    "\n",
    "+ **La cantidad de versiones**: si acabas de llegar a Python y te encuentras con alrededor de 8 versiones, tu cabeza hace 🤯🤯 incluso peor, es cuando tienes que usar Python2 y Python3 a la vez, pues tienes que operar como si fuesen dos lenguajes distintos. Ésto también se acentua cuando trabajas por proyecto (menos mal que existe Anaconda y PyEnv 🥳)\n",
    "\n",
    "+ **La dificultad para hacer concurrencia** (ésto es algo avanzado): Python tiene varias implementaciones, y *CPython*, la más usada, implementa [una estructura, llamada *GIL*, que obliga a correr Python en un solo procesador](https://hackernoon.com/concurrent-programming-in-python-is-not-what-you-think-it-is-b6439c3f3e6a).\n",
    "\n",
    "+ Las implementaciones completamente hechas en Python tienden a ser lentas, comparadas con C / C++ o Rust.\n"
   ]
  },
  {
   "cell_type": "markdown",
   "metadata": {},
   "source": [
    "---\n",
    "\n",
    "Licencia: [GNU GPLv3](https://www.tiobe.com/tiobe-index/) 2020"
   ]
  }
 ],
 "metadata": {
  "kernelspec": {
   "display_name": "Python 3",
   "language": "python",
   "name": "python3"
  },
  "language_info": {
   "codemirror_mode": {
    "name": "ipython",
    "version": 3
   },
   "file_extension": ".py",
   "mimetype": "text/x-python",
   "name": "python",
   "nbconvert_exporter": "python",
   "pygments_lexer": "ipython3",
   "version": "3.7.6"
  }
 },
 "nbformat": 4,
 "nbformat_minor": 4
}
