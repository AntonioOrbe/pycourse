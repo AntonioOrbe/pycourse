{
 "cells": [
  {
   "cell_type": "markdown",
   "metadata": {},
   "source": [
    "# Capítulo 1: un padawan de Python\n",
    "_Del curso \"Python y Machine Learning: de 0 a 100 con Reinforcement Learning\"_ <br/>\n",
    "_Impartido por MalagaAI, [Andrés Matesanz][mate] y [Joaquín Terrasa][quim]_ <br/>\n",
    "_24 de Marzo de 2020_ <br/>\n",
    "\n",
    "Duración estimada: **2 horas** en streaming.\n",
    "\n",
    "---\n",
    "<br/>\n",
    "\n",
    "> DISCLAIMER: No soy un maestro de Python. Además, ten en cuenta que este es el primer curso de Python y RL. ¡Eres beta-tester! 😝 <br/>\n",
    "> DISCLAIMER 2: Todos los bloques tienen recursos para seguir avanzando (bien en castellano o inglés)\n",
    "\n",
    "<br/>\n",
    "\n",
    "**Hey!** Antes de comenzar, tienes 3 modos de obtener este *notebook*. \n",
    "\n",
    "1. A través de GitHub, en el repositorio [@espetro/pyCourse](). Duplicas el repositorio (bien descargas el `.zip` o ejecutas `git clone`) y usas el *notebook* en local.\n",
    "2. A través de Google Colab, siguiendo [este enlace](https://colab.research.google.com/).\n",
    "3. Otra alternativa para no iniciar sesión es usar Binder: [aquí el enlace](https://mybinder.org/).\n",
    "\n",
    "<br/>\n",
    "\n",
    "<img src=\"https://i.imgur.com/yAwThCj.jpg\" width=\"30%\" style=\"margin-left:25em\"/>\n",
    "\n",
    "Espero que todo funcione 🤞🤞\n",
    "\n",
    "<br/>\n",
    "\n",
    "---\n",
    "\n",
    "<br/>\n",
    "\n",
    "En la anterior clase pudimos iniciarnos con Python, el lenguaje más *cool* del último lustro. Supiste cómo instalar Python, qué es Anaconda y para qué puede sernos útil, y empezaste a programar en Python.\n",
    "\n",
    "En este bloque, entenderás mejor por qué Python está partiendo la pana. Verás conocimientos fundamentales para cualquier desarrollador Python, y en concreto, iremos orientándonos a ser desarrollador Python para Machine Learning.\n",
    "\n",
    "\n",
    "Como quizás ya sepas, Python no solo se usa para Machine Learning. Pero... ¿y por qué se usa?\n",
    "\n",
    "[mate]: https://www.linkedin.com/in/aimatesanz/\n",
    "[quim]: https://www.linkedin.com/in/quinoterrasa/"
   ]
  },
  {
   "cell_type": "markdown",
   "metadata": {},
   "source": [
    "### Por qué usamos Python\n",
    "\n",
    "<img src=\"https://i.imgur.com/Xt1NL3Y.png\" width=\"60%\"/>\n",
    "\n",
    "<br/>\n",
    "\n",
    "Creo que este punto es importante porque, por un lado, **te hace mejor programador**, al razonar los motivos por los que programas en `X` y no solo porque *mi empresa o universidad trabaja con X*; y por otro lado, puedes lograr a **aprovechar las ventajas** del lenguaje que usas.\n",
    "\n",
    "+ Es un lenguaje enfocado en la **legibilidad**, trabajando con un gran subconjunto de palabras del inglés. De esta manera, proporciona un <u>balance justo entre productividad y mantenimiento</u>\n",
    "> Fíjate! En Python no usamos corchetes `{}` para definir funciones ni bucles\n",
    "\n",
    "<br/>\n",
    "\n",
    "+ Es un lenguaje **multiparadigma**, por lo que permite programar usando distintos modelos de programación, como el *orientado a objetos* o *funcional*. Además, es un lenguaje **tipado dinámicamente**, aunque deja abierta la posibilidad de tiparlo estáticamente.\n",
    "> Fíjate! Al contrario que en Java o C, para guardar un número entero, no tienes que asignarle el tipo `int`. Por suerte, **sí está fuertemente tipado**, lo que hace que no puedas, por ejemplo, sumar `1 + \"1\"`, cosa que sí ocurre en JavaScript. <br/>\n",
    "> En concreto, Python usa algo llamado [duck typing][duck]: *si se parece a un pato y hace 'quack' como un pato, entonces es un pato*\n",
    "\n",
    "<br/>\n",
    "\n",
    "+ Tiene una **librería estándar robusta**, lo que permite desarrollar nuevas librerias de manera más sencilla. Además, cuenta con una **gran comunidad** por detrás, lo que ayuda al mantenimiento y adaptación del lenguaje.\n",
    "> Fíjate! El lenguaje es de código abierto, por lo que [es la comunidad la que propone cambios][peps].\n",
    "\n",
    "<br/>\n",
    "\n",
    "+ Por último, tiene gran cabida en la gran mayoría de plataformas, como ya pudisteis comprobobar en el anterior capítulo 😉 Si bien es cierto que no es tan rapido como C o C++, la posibilidad de compilar en tiempo de ejecución y de poder ejecutar algunas tareas en C o C++  mejora bastante su rendimiento.\n",
    "> Fíjate! Python es uno de los lenguajes base de las distribuciones Linux, estando presente también en MacOS.\n",
    "\n",
    "<br/>\n",
    "\n",
    "\n",
    "Por ésto y por otras cosas, es porque está en varios rankings ([PYPL][pypl], [TIOBE][tiobe]) como uno de los lenguajes más populares.\n",
    "\n",
    "---\n",
    "\n",
    "[pypl]: http://pypl.github.io/PYPL.html\n",
    "[tiobe]: https://www.tiobe.com/tiobe-index/\n",
    "[peps]: https://www.python.org/dev/peps/\n",
    "[duck]: https://hackernoon.com/python-duck-typing-or-automatic-interfaces-73988ec9037f"
   ]
  },
  {
   "cell_type": "markdown",
   "metadata": {},
   "source": [
    "### Micro apunte sobre ayuda\n",
    "\n",
    "De aquí en adelante veremos algunos bloques teóricos y prácticos complejos. En Python, puedes usar **`help()`** sobre cualquier variable, palabra predefinida u objeto para obtener más información."
   ]
  },
  {
   "cell_type": "code",
   "execution_count": 62,
   "metadata": {},
   "outputs": [
    {
     "name": "stdout",
     "output_type": "stream",
     "text": [
      "Help on NoneType object:\n",
      "\n",
      "class NoneType(object)\n",
      " |  Methods defined here:\n",
      " |  \n",
      " |  __bool__(self, /)\n",
      " |      self != 0\n",
      " |  \n",
      " |  __repr__(self, /)\n",
      " |      Return repr(self).\n",
      " |  \n",
      " |  ----------------------------------------------------------------------\n",
      " |  Static methods defined here:\n",
      " |  \n",
      " |  __new__(*args, **kwargs) from builtins.type\n",
      " |      Create and return a new object.  See help(type) for accurate signature.\n",
      "\n"
     ]
    }
   ],
   "source": [
    "help(None)"
   ]
  },
  {
   "cell_type": "markdown",
   "metadata": {},
   "source": [
    "Otro recurso útil a la hora de aprender es conocer las **palabras reservadas** de Python - ésto podemos revisarlo de manera sencilla, y nos servirá para aprender para qué se usa cada palabra:"
   ]
  },
  {
   "cell_type": "code",
   "execution_count": 2,
   "metadata": {},
   "outputs": [
    {
     "name": "stdout",
     "output_type": "stream",
     "text": [
      "['False', 'None', 'True', 'and', 'as', 'assert', 'async', 'await', 'break', 'class', 'continue', 'def', 'del', 'elif', 'else', 'except', 'finally', 'for', 'from', 'global', 'if', 'import', 'in', 'is', 'lambda', 'nonlocal', 'not', 'or', 'pass', 'raise', 'return', 'try', 'while', 'with', 'yield']\n"
     ]
    }
   ],
   "source": [
    "import keyword\n",
    "\n",
    "print(keyword.kwlist)"
   ]
  },
  {
   "cell_type": "markdown",
   "metadata": {},
   "source": [
    "También vale la pena conocer las **funciones incluidas** ([*built-in functions*][built]) en Python, las cuales puedes usar sin tener que importar ningún paquete:\n",
    "\n",
    "[built]: https://docs.python.org/3/library/functions.html"
   ]
  },
  {
   "cell_type": "code",
   "execution_count": 25,
   "metadata": {},
   "outputs": [
    {
     "name": "stdout",
     "output_type": "stream",
     "text": [
      "['ArithmeticError', 'AssertionError', 'AttributeError', 'BaseException', 'BlockingIOError', 'BrokenPipeError', 'BufferError', 'BytesWarning', 'ChildProcessError', 'ConnectionAbortedError', 'ConnectionError', 'ConnectionRefusedError', 'ConnectionResetError', 'DeprecationWarning', 'EOFError', 'Ellipsis', 'EnvironmentError', 'Exception', 'False', 'FileExistsError', 'FileNotFoundError', 'FloatingPointError', 'FutureWarning', 'GeneratorExit', 'IOError', 'ImportError', 'ImportWarning', 'IndentationError', 'IndexError', 'InterruptedError', 'IsADirectoryError', 'KeyError', 'KeyboardInterrupt', 'LookupError', 'MemoryError', 'ModuleNotFoundError', 'NameError', 'None', 'NotADirectoryError', 'NotImplemented', 'NotImplementedError', 'OSError', 'OverflowError', 'PendingDeprecationWarning', 'PermissionError', 'ProcessLookupError', 'RecursionError', 'ReferenceError', 'ResourceWarning', 'RuntimeError', 'RuntimeWarning', 'StopAsyncIteration', 'StopIteration', 'SyntaxError', 'SyntaxWarning', 'SystemError', 'SystemExit', 'TabError', 'TimeoutError', 'True', 'TypeError', 'UnboundLocalError', 'UnicodeDecodeError', 'UnicodeEncodeError', 'UnicodeError', 'UnicodeTranslateError', 'UnicodeWarning', 'UserWarning', 'ValueError', 'Warning', 'WindowsError', 'ZeroDivisionError', '__IPYTHON__', '__build_class__', '__debug__', '__doc__', '__import__', '__loader__', '__name__', '__package__', '__spec__', 'abs', 'all', 'any', 'ascii', 'bin', 'bool', 'breakpoint', 'bytearray', 'bytes', 'callable', 'chr', 'classmethod', 'compile', 'complex', 'copyright', 'credits', 'delattr', 'dict', 'dir', 'display', 'divmod', 'enumerate', 'eval', 'exec', 'filter', 'float', 'format', 'frozenset', 'get_ipython', 'getattr', 'globals', 'hasattr', 'hash', 'help', 'hex', 'id', 'input', 'int', 'isinstance', 'issubclass', 'iter', 'len', 'license', 'list', 'locals', 'map', 'max', 'memoryview', 'min', 'next', 'object', 'oct', 'open', 'ord', 'pow', 'print', 'property', 'range', 'repr', 'reversed', 'round', 'set', 'setattr', 'slice', 'sorted', 'staticmethod', 'str', 'sum', 'super', 'tuple', 'type', 'vars', 'zip']\n"
     ]
    }
   ],
   "source": [
    "import builtins\n",
    "print(dir(builtins))"
   ]
  },
  {
   "cell_type": "markdown",
   "metadata": {},
   "source": [
    "Por último pero no menos importante, habrá ocasiones donde necesites más funcionalidades que las que te da Python de entrada. Una de las mejores cosas de Python es su **libreria estándar**, la cual contiene (en la versión 3.7) [**un total de $211$ módulos**][std], entre los que podemos encontrar:\n",
    "\n",
    "+ `re`: para tratar con expresiones regulares.\n",
    "+ `datetime`: para tratar con formatos de fecha y hora.\n",
    "+ `socket`: para conexiones de red a bajo nivel.\n",
    "+ `random`: para generar números aleatorios.\n",
    "+ `tkinter`: para crear GUIs (*graphical user interface*).\n",
    "+ `os`: para interactuar con el sistema. Contiene a su vez los módulos `sys` y `path`.\n",
    "+ `pickle`: para [*serializar*][serlz] objetos.\n",
    "\n",
    "[std]: https://docs.python.org/3.7/library/index.html\n",
    "[serlz]: https://es.wikipedia.org/wiki/Serialización"
   ]
  },
  {
   "cell_type": "markdown",
   "metadata": {},
   "source": [
    "### Micro apuntes sobre formateo de texto\n",
    "\n",
    "Podemos formatear el texto en Python de varias maneras. Veamos cuáles hay:"
   ]
  },
  {
   "cell_type": "code",
   "execution_count": 44,
   "metadata": {},
   "outputs": [
    {
     "name": "stdout",
     "output_type": "stream",
     "text": [
      "Hoy es 24 de Marzo de 2020\n",
      "Hoy es 24 de Marzo de 2020\n",
      "Hoy es 24 de Marzo de 2020\n",
      "Hoy es 24 de Marzo de 2020\n",
      "Hoy es 24 de Marzo de 2020\n"
     ]
    }
   ],
   "source": [
    "print(\"Hoy es\", 24, \"de Marzo de\", 2020)           # sintaxis clasica\n",
    "print(\"Hoy es %d de Marzo de %d\" % (24, 2020))     # sintaxis similar a C (printf, sprintf)\n",
    "print(\"Hoy es\" + \" 24 \" + \"de Marzo de\" + \" 2020\") # sintaxis similar a Java (System.out.print)\n",
    "print(\"Hoy es {} de Marzo de {}\".format(24, 2020))\n",
    "\n",
    "dia, anyo = 24, 2020\n",
    "print(f\"Hoy es {dia} de Marzo de {anyo}\")          # sintaxis similar a JS ES6 y Bash [solo disponible a partir de 3.6]"
   ]
  },
  {
   "cell_type": "markdown",
   "metadata": {},
   "source": [
    "\n",
    "### Micro recordatorio del capítulo 0: Tipos de datos\n",
    "\n",
    "¿Recuerdas los tipos de datos principales que dimos en el capítulo 0?\n",
    "\n",
    "<img src=\"https://i.imgur.com/cCJ7SSD.png\" width=\"60%\"/>\n",
    "\n",
    "Todos estos tipos se pueden comprobar con la función `type()`. Además, hay que tener en cuenta otros tipos fundamentales:\n",
    "\n",
    "+ ¿Conoces `null`? En Python no existe, pero tenemos **`None`**, cuyo tipo es `NoneType`.\n",
    "\n",
    "+ Toda clase que creemos se considera un tipo nuevo. Por ello, toda instancia del objeto es del tipo de la clase.\n",
    "> Si tenemos una clase `Persona` y una instancia/objeto `pepe = Persona(edad=32, altura=180)`, `type(pepe)` es `Persona`\n",
    "\n",
    "+ Además, en Python [**todas las funciones son objetos**][f]. Esto se conoce como *First-Class Functions* y permite, entre otras cosas, usar las variables como parámetros para las funciones, y almacenar las funciones en bases de datos.\n",
    "\n",
    "Podeis ver todos los tipos [aquí][t].\n",
    "\n",
    "#### Cómo comprobar la equivalencia de tipos y datos en Python\n",
    "\n",
    "Muy simple: en vez de usar `==`, en Python podemos usar `is` (la cual también podemos usar para comprobar equivalencia de datos):\n",
    "\n",
    "```python\n",
    "lista1 = [1, 3, \"5\", 7, \"9\", None]\n",
    "\n",
    "filtrar_errores = [x for x in lista1 if x is not None]\n",
    "\n",
    "sumar_dos = [x + 2 for x in filtrar_errores if x is int]\n",
    "\n",
    "print(sumar_dos)\n",
    "\n",
    "# tambien podemos usar \"is\" para\n",
    "temp_var = 10 // 2\n",
    "if temp_var is 5:\n",
    "    print(\"Perfecto! No usaremos mas '=='\")\n",
    "```\n",
    "\n",
    "¿Qué nos dará?\n",
    "\n",
    "[f]: https://dbader.org/blog/python-first-class-functions\n",
    "[t]: https://docs.python.org/3.7/library/types.html"
   ]
  },
  {
   "cell_type": "code",
   "execution_count": 50,
   "metadata": {},
   "outputs": [
    {
     "data": {
      "text/plain": [
       "__main__.Persona"
      ]
     },
     "execution_count": 50,
     "metadata": {},
     "output_type": "execute_result"
    }
   ],
   "source": [
    "\n",
    "\n",
    "\n",
    "\n",
    "class Persona:\n",
    "    def __init__(self, edad, altura):\n",
    "        self.edad = edad\n",
    "        self.altura = altura\n",
    "    \n",
    "    def info(self):\n",
    "        print(f\"Mi edad es {self.edad} y mi altura es {self.altura}\")\n",
    "        \n",
    "pepe = Persona(32, 180)\n",
    "type(pepe)"
   ]
  },
  {
   "cell_type": "code",
   "execution_count": 48,
   "metadata": {},
   "outputs": [
    {
     "data": {
      "text/plain": [
       "method"
      ]
     },
     "execution_count": 48,
     "metadata": {},
     "output_type": "execute_result"
    }
   ],
   "source": [
    "type(pepe.info)"
   ]
  },
  {
   "cell_type": "code",
   "execution_count": 49,
   "metadata": {},
   "outputs": [
    {
     "data": {
      "text/plain": [
       "function"
      ]
     },
     "execution_count": 49,
     "metadata": {},
     "output_type": "execute_result"
    }
   ],
   "source": [
    "type(Persona.info)"
   ]
  },
  {
   "cell_type": "code",
   "execution_count": 18,
   "metadata": {},
   "outputs": [
    {
     "data": {
      "text/plain": [
       "module"
      ]
     },
     "execution_count": 18,
     "metadata": {},
     "output_type": "execute_result"
    }
   ],
   "source": [
    "import re\n",
    "type(re)"
   ]
  },
  {
   "cell_type": "code",
   "execution_count": 16,
   "metadata": {},
   "outputs": [
    {
     "data": {
      "text/plain": [
       "generator"
      ]
     },
     "execution_count": 16,
     "metadata": {},
     "output_type": "execute_result"
    }
   ],
   "source": [
    "type((x for x in range(10)))"
   ]
  },
  {
   "cell_type": "code",
   "execution_count": 46,
   "metadata": {},
   "outputs": [
    {
     "data": {
      "text/plain": [
       "list"
      ]
     },
     "execution_count": 46,
     "metadata": {},
     "output_type": "execute_result"
    }
   ],
   "source": [
    "type([x for x in range(10)])"
   ]
  },
  {
   "cell_type": "code",
   "execution_count": 51,
   "metadata": {},
   "outputs": [
    {
     "data": {
      "text/plain": [
       "NoneType"
      ]
     },
     "execution_count": 51,
     "metadata": {},
     "output_type": "execute_result"
    }
   ],
   "source": [
    "type(None)"
   ]
  },
  {
   "cell_type": "markdown",
   "metadata": {},
   "source": [
    "---\n",
    "\n",
    "## Python ¿estáticamente tipado? 😱😱\n",
    "\n",
    "¡Sí sí sí! [**Aquí teneis la chuleta**][chuleta]. Realmente el tipado es estático, si no que se comprueba antes de que sea ejecutado, algo así [como pasa con JavaScript y TypeScript][ts]. Esta posibilidad **se introduce en [Python 3.5][pep484]** y se mejora en las siguientes versiones.\n",
    "\n",
    "Usaremos el [módulo `typing`][typing] para ello\n",
    "\n",
    "[why]: https://wiki.python.org/moin/Why%20is%20Python%20a%20dynamic%20language%20and%20also%20a%20strongly%20typed%20language\n",
    "[duck]: https://realpython.com/lessons/duck-typing/\n",
    "[chuleta]: https://www.pythonsheets.com/notes/python-typing.html\n",
    "[ts]: https://www.typescriptlang.org/docs/handbook/typescript-in-5-minutes.html\n",
    "[pep484]: https://www.python.org/dev/peps/pep-0484/\n",
    "[typing]: https://docs.python.org/3/library/typing.html"
   ]
  },
  {
   "cell_type": "code",
   "execution_count": 92,
   "metadata": {},
   "outputs": [],
   "source": [
    "from datetime import datetime as dtime\n",
    "\n",
    "class Persona:\n",
    "    duracion_anyo: int = 365\n",
    "    \n",
    "    def __init__(self, nombre: str, altura: float, fecha_de_nacimiento: str):\n",
    "        self.nombre = nombre\n",
    "        self.altura = altura\n",
    "        self.fecha_de_nacimiento = dtime.strptime(fecha_de_nacimiento, \"%Y-%m-%d\")\n",
    "        \n",
    "    def wave(self):\n",
    "        diferencia = dtime.now() - self.fecha_de_nacimiento\n",
    "        edad_actual = diferencia.days // Persona.duracion_anyo\n",
    "        \n",
    "        print(f\"Mi nombre es {self.nombre}, tengo {edad_actual} años y mido {self.altura} cms.\")"
   ]
  },
  {
   "cell_type": "code",
   "execution_count": 93,
   "metadata": {},
   "outputs": [
    {
     "name": "stdout",
     "output_type": "stream",
     "text": [
      "Mi nombre es Quino, tengo 23 años y mido 181 cms.\n"
     ]
    }
   ],
   "source": [
    "# Necesitamos insertar la fecha en el formato \"YYYY-MM-DD\" ! \n",
    "Quino = Persona(\"Quino\", \"181\", \"1996-11-11\")\n",
    "\n",
    "Quino.wave()"
   ]
  },
  {
   "cell_type": "markdown",
   "metadata": {},
   "source": [
    "---\n",
    "\n",
    "## *Si quieres ir rápido, programa solo. Si quieres llegar lejos, programa con los demás*\n",
    "\n",
    "*Worst translation ever, but the point is*: **Documenta y testea**. Esto no es algo unico de Python, pero hacemos énfasis porque en Python prima la **legibilidad**.\n"
   ]
  },
  {
   "cell_type": "code",
   "execution_count": 50,
   "metadata": {},
   "outputs": [
    {
     "data": {
      "text/plain": [
       "__main__.Persona"
      ]
     },
     "execution_count": 50,
     "metadata": {},
     "output_type": "execute_result"
    }
   ],
   "source": [
    "class Persona:\n",
    "    \"\"\"Permite representar personas físicas\"\"\"\n",
    "    def __init__(self, nombre, edad, altura):\n",
    "        \"\"\"Documentacion al estilo de R docstrings\n",
    "        \n",
    "        @param nombre: el nombre de la persona\n",
    "        @param edad: su edad\n",
    "        @param altura: su altura, en centrimetros\n",
    "        \"\"\"\n",
    "        self.nombre = nombre\n",
    "        self.edad = edad\n",
    "        self.altura = altura\n",
    "    \n",
    "    def info(self):\n",
    "        \"\"\"Dibuja la información de la persona por pantalla\"\"\"\n",
    "        print(f\"Mi edad es {self.edad} y mi altura es {self.altura}\") # es preferible este 'print' a\n",
    "        # print(\"Mi edad es %d y mi altura es %.2f\" % (self.edad, self.altura))"
   ]
  },
  {
   "cell_type": "markdown",
   "metadata": {},
   "source": [
    "#### Crea código legible\n",
    "\n",
    "Es lo que llaman *el Zen de Python*. Es [uno de los primeros PEP][pep20] creados y sintetiza las ideas para crear codigo legible.\n",
    "\n",
    "```md\n",
    "Lo explícito es mejor que lo implícito.\n",
    "Lo plano es mejor que lo enrevesado.\n",
    "Los errores nunca deberían de ser silenciados.\n",
    "Ahora es mejor que nunca.\n",
    "```\n",
    "\n",
    "Otro de los PEP fundamentales [se centra en la guía de estilo para Python][pep08]: el **PEP8 es una de las guías fundamentales** para estandarizar codigo en Python.\n",
    "\n",
    "[pep20]: https://www.python.org/dev/peps/pep-0020/\n",
    "[pep08]: https://www.python.org/dev/peps/pep-0008/"
   ]
  },
  {
   "cell_type": "markdown",
   "metadata": {},
   "source": [
    "#### Documenta\n",
    "\n",
    "Tanto si es para desarrollar herramientas más complejas por ti mismo como si estás participando en un proyecto con otros desarrolladores, documentar \"correctamente\" es esencial. Python tiene su propia guía de estilo para la documentación, **basada en reStructuredText y condensada en el [PEP287][pep287] y [PEP257][257]**. En Python, los llamamos ***docstrings***.\n",
    "\n",
    "De manera simple, reStructuredText es un lenguaje de texto enriquecido que compila a HTML. Veámoslo:\n",
    "\n",
    "[pep287]: https://www.python.org/dev/peps/pep-0287/\n",
    "[257]: https://www.python.org/dev/peps/pep-0257/"
   ]
  },
  {
   "cell_type": "code",
   "execution_count": 150,
   "metadata": {},
   "outputs": [
    {
     "name": "stdout",
     "output_type": "stream",
     "text": [
      "Hola Don Pepito! Hola Don Jose!\n",
      "Hola Don Pepito! Hola Don Jose\n"
     ]
    }
   ],
   "source": [
    "def saludar(nombre=None, entusiasmadamente=False):\n",
    "        \"\"\"Saluda a una persona, con fuerza o no.\n",
    "\n",
    "        Parametros\n",
    "        ----------\n",
    "        nombre : str, obligatorio\n",
    "            El nombre de la persona a saludar\n",
    "        entusiasmadamente: bool, opcional\n",
    "            Elige si saludar con fuerza o no\n",
    "\n",
    "        Lanza\n",
    "        ------\n",
    "        TypeError\n",
    "            Si el nombre es None\n",
    "        \"\"\"\n",
    "\n",
    "        if nombre is None:\n",
    "            raise TypeError(\"El nombre es None\")\n",
    "\n",
    "        exclamacion = [\"\", \"!\"][entusiasmadamente]  # equivalente a un operador ternario ?: (no recomendable! haz un 'if-else'. Esto no es tan legible)\n",
    "            \n",
    "        print(\"Hola Don Pepito! Hola Don {}{}\".format(nombre, exclamacion))\n",
    "        \n",
    "saludar(\"Jose\", True)\n",
    "saludar(\"Jose\", False)"
   ]
  },
  {
   "cell_type": "markdown",
   "metadata": {},
   "source": [
    "> Fíjate! Una de las mejores maneras de documentar código en Python es **asignar correctamente los nombres** a funciones y variables temporales. Ten en cuenta el estilo de Python: `estoNoEstaFino`, `esto_si_es_mejor`\n",
    "\n",
    "👉 [más info](https://realpython.com/documenting-python-code/) 👈"
   ]
  },
  {
   "cell_type": "markdown",
   "metadata": {},
   "source": [
    "#### Pruebas de código\n",
    "\n",
    "Este tema es algo más extenso, así que te daré una idea general. Realmente es algo que se hace a nivel de aplicación, cuando ya estás programando en un IDE (entorno de desarrollo), ya que en Jupyter no es del todo útil.\n",
    "\n",
    "La idea fundamental consiste en probar todos los casos posibles de entrada y salida para tu programa, con el fin de **comprobar si tu programa tiende a producir errores**. Además, existe la posibilidad de **simular el funcionamiento de tu programa incluso antes de haberlo programado**, lo que nos ayuda a centrarnos en módulos específicos que necesitan más atención y cuidado.\n",
    "\n",
    "\n",
    "+ Unit Testing: Se centra en comprobar que cada bloque (funciones, clases, etc.) funcionan como está previsto. Python incluye la libreria estándar `unittest`, así como la palabra reservada `assert`.\n",
    "\n",
    "+ *Test-Driven Development* (*TDD*): es una metodología de programación que <u>se centra en realizar primero los tests, para asegurar cómo debe funcionar el programa</u>, para acto seguido implementarlo.\n",
    "\n",
    "+ *Mocking* (Simulacion): permite simular módulos de tu app que aún no has desarrollado o sobre los que no tienes control. Un paquete bastante usado es `mock`.\n",
    "\n",
    "+ Cobertura: facilita el comprobar si todos los bloques de código tiene pruebas de código.\n",
    "\n",
    "👉 [más info para *mocking*](https://inlab.fib.upc.edu/es/blog/testing-y-mocking-en-python) 👈\n",
    "\n",
    "👉 [más info para *unit testing*](https://parzibyte.me/blog/2019/06/11/unit-testing-python-realizar-pruebas-codigo/) 👈\n",
    "\n",
    "👉 [más info para *cobertura*](https://alvaromonsalve.com/2019/01/26/test-unitarios-y-cobertura-de-codigo-en-python/) 👈\n",
    "\n",
    "👉 [más info para *TDD*](https://www.hektorprofe.net/tutorial/ejemplo-muy-facil-tdd-python) 👈"
   ]
  },
  {
   "cell_type": "markdown",
   "metadata": {},
   "source": [
    "#### Generación de errores\n",
    "\n",
    "Como hemos podido ver antes, para lanzar excepciones o errores en Python usamos la palabra `raise`, y podemos *capturar* o controlar los errores con `try` / `except`"
   ]
  },
  {
   "cell_type": "code",
   "execution_count": 153,
   "metadata": {},
   "outputs": [
    {
     "ename": "Exception",
     "evalue": "boomboclat",
     "output_type": "error",
     "traceback": [
      "\u001b[1;31m---------------------------------------------------------------------------\u001b[0m",
      "\u001b[1;31mException\u001b[0m                                 Traceback (most recent call last)",
      "\u001b[1;32m<ipython-input-153-a906c8ce64f6>\u001b[0m in \u001b[0;36m<module>\u001b[1;34m\u001b[0m\n\u001b[1;32m----> 1\u001b[1;33m \u001b[1;32mraise\u001b[0m \u001b[0mException\u001b[0m\u001b[1;33m(\u001b[0m\u001b[1;34m\"boomboclat\"\u001b[0m\u001b[1;33m)\u001b[0m\u001b[1;33m\u001b[0m\u001b[1;33m\u001b[0m\u001b[0m\n\u001b[0m",
      "\u001b[1;31mException\u001b[0m: boomboclat"
     ]
    }
   ],
   "source": [
    "raise Exception(\"boomboclat\")"
   ]
  },
  {
   "cell_type": "code",
   "execution_count": 152,
   "metadata": {},
   "outputs": [
    {
     "name": "stdout",
     "output_type": "stream",
     "text": [
      "No pasa nada mi gente, todo controlado\n",
      "boomboclat\n"
     ]
    }
   ],
   "source": [
    "try:\n",
    "    raise Exception(\"boomboclat\")\n",
    "except Exception as e:\n",
    "    print(\"No pasa nada mi gente, todo controlado\")\n",
    "    print(e)"
   ]
  },
  {
   "cell_type": "markdown",
   "metadata": {},
   "source": [
    "#### Depuración de errores\n",
    "\n",
    "La depuración de errores o ***debugging*** nos permite **controlar momentáneamente el flujo del programa para detectar errores en tiempo de ejecución**. De esta manera, podemos capturar y tratar errores que ni el compilador ni las herramientas externas nos permiten detectar.\n",
    "\n",
    "+ **En Python**: Normalmente, corre a cargo del compilador, del IDE y de *linters*. **A partir de la versión 3.7, se puede usar la función `breakpoint()`.**\n",
    "> <img src=\"https://i.imgur.com/VDh1ztl.png\" width=\"40%\"/> <br/>\n",
    "> En la mayoría de IDEs o entornos de desarrollo, puedes marcar con un 🔴 en la barra lateral los *puntos de interrupción o \"breakpoints\"* cuando se ejecute el script"
   ]
  },
  {
   "cell_type": "code",
   "execution_count": 21,
   "metadata": {},
   "outputs": [
    {
     "name": "stdout",
     "output_type": "stream",
     "text": [
      "--Return--\n",
      "> <ipython-input-21-ceaa32e5db2a>(4)<module>()->None\n",
      "-> breakpoint()\n"
     ]
    },
    {
     "name": "stdin",
     "output_type": "stream",
     "text": [
      "(Pdb)  valor_externo\n"
     ]
    },
    {
     "name": "stdout",
     "output_type": "stream",
     "text": [
      "range(0, 10)\n"
     ]
    },
    {
     "name": "stdin",
     "output_type": "stream",
     "text": [
      "(Pdb)  valor_actual\n"
     ]
    },
    {
     "name": "stdout",
     "output_type": "stream",
     "text": [
      "[1.5, 2.0]\n"
     ]
    },
    {
     "name": "stdin",
     "output_type": "stream",
     "text": [
      "(Pdb)  print(\"No podremos :(\")\n"
     ]
    },
    {
     "name": "stdout",
     "output_type": "stream",
     "text": [
      "No podremos :(\n"
     ]
    },
    {
     "name": "stdin",
     "output_type": "stream",
     "text": [
      "(Pdb)  valor_externo = list(valor_externo)\n",
      "(Pdb)  continue\n"
     ]
    },
    {
     "name": "stdout",
     "output_type": "stream",
     "text": [
      "[1.5, 2.0, 0, 1, 2, 3, 4, 5, 6, 7, 8, 9]\n",
      "--Call--\n",
      "> c:\\users\\pachacho\\miniconda3\\envs\\pycourse\\lib\\site-packages\\ipython\\core\\displayhook.py(252)__call__()\n",
      "-> def __call__(self, result=None):\n"
     ]
    },
    {
     "name": "stdin",
     "output_type": "stream",
     "text": [
      "(Pdb)  continue\n"
     ]
    }
   ],
   "source": [
    "valor_externo = range(10)  # nos llega desde otro script o programa en red\n",
    "valor_actual = [1.5, 2.0]\n",
    "\n",
    "breakpoint()  # podemos leer y modificar datos durante la interrupcion\n",
    "print(valor_actual + valor_externo)  # queremos unir listas. ¿se podra?\n",
    "breakpoint()"
   ]
  },
  {
   "cell_type": "markdown",
   "metadata": {},
   "source": [
    "+ **En Jupyter**, podemos usar el *magic* `pdb`, que activa la depuracion si y solo si un error ocurre. Tenemos que desactivarlo manualmente:"
   ]
  },
  {
   "cell_type": "code",
   "execution_count": 22,
   "metadata": {},
   "outputs": [
    {
     "name": "stdout",
     "output_type": "stream",
     "text": [
      "Automatic pdb calling has been turned ON\n"
     ]
    }
   ],
   "source": [
    "%pdb"
   ]
  },
  {
   "cell_type": "code",
   "execution_count": 23,
   "metadata": {},
   "outputs": [
    {
     "ename": "TypeError",
     "evalue": "can only concatenate list (not \"range\") to list",
     "output_type": "error",
     "traceback": [
      "\u001b[1;31m---------------------------------------------------------------------------\u001b[0m",
      "\u001b[1;31mTypeError\u001b[0m                                 Traceback (most recent call last)",
      "\u001b[1;32m<ipython-input-23-eccb4e3aff7d>\u001b[0m in \u001b[0;36m<module>\u001b[1;34m\u001b[0m\n\u001b[0;32m      3\u001b[0m \u001b[0mvalor_actual\u001b[0m \u001b[1;33m=\u001b[0m \u001b[1;33m[\u001b[0m\u001b[1;36m1.5\u001b[0m\u001b[1;33m,\u001b[0m \u001b[1;36m2.0\u001b[0m\u001b[1;33m]\u001b[0m\u001b[1;33m\u001b[0m\u001b[1;33m\u001b[0m\u001b[0m\n\u001b[0;32m      4\u001b[0m \u001b[1;33m\u001b[0m\u001b[0m\n\u001b[1;32m----> 5\u001b[1;33m \u001b[0mprint\u001b[0m\u001b[1;33m(\u001b[0m\u001b[0mvalor_actual\u001b[0m \u001b[1;33m+\u001b[0m \u001b[0mvalor_externo\u001b[0m\u001b[1;33m)\u001b[0m  \u001b[1;31m# queremos unir listas. ¿se podra?\u001b[0m\u001b[1;33m\u001b[0m\u001b[1;33m\u001b[0m\u001b[0m\n\u001b[0m",
      "\u001b[1;31mTypeError\u001b[0m: can only concatenate list (not \"range\") to list"
     ]
    },
    {
     "name": "stdout",
     "output_type": "stream",
     "text": [
      "None\n",
      "> \u001b[1;32m<ipython-input-23-eccb4e3aff7d>\u001b[0m(5)\u001b[0;36m<module>\u001b[1;34m()\u001b[0m\n",
      "\u001b[1;32m      1 \u001b[1;33m\u001b[1;31m# podemos leer y modificar datos durante la interrupcion\u001b[0m\u001b[1;33m\u001b[0m\u001b[1;33m\u001b[0m\u001b[1;33m\u001b[0m\u001b[0m\n",
      "\u001b[0m\u001b[1;32m      2 \u001b[1;33m\u001b[0mvalor_externo\u001b[0m \u001b[1;33m=\u001b[0m \u001b[0mrange\u001b[0m\u001b[1;33m(\u001b[0m\u001b[1;36m10\u001b[0m\u001b[1;33m)\u001b[0m  \u001b[1;31m# nos llega desde otro script o programa en red\u001b[0m\u001b[1;33m\u001b[0m\u001b[1;33m\u001b[0m\u001b[0m\n",
      "\u001b[0m\u001b[1;32m      3 \u001b[1;33m\u001b[0mvalor_actual\u001b[0m \u001b[1;33m=\u001b[0m \u001b[1;33m[\u001b[0m\u001b[1;36m1.5\u001b[0m\u001b[1;33m,\u001b[0m \u001b[1;36m2.0\u001b[0m\u001b[1;33m]\u001b[0m\u001b[1;33m\u001b[0m\u001b[1;33m\u001b[0m\u001b[0m\n",
      "\u001b[0m\u001b[1;32m      4 \u001b[1;33m\u001b[1;33m\u001b[0m\u001b[0m\n",
      "\u001b[0m\u001b[1;32m----> 5 \u001b[1;33m\u001b[0mprint\u001b[0m\u001b[1;33m(\u001b[0m\u001b[0mvalor_actual\u001b[0m \u001b[1;33m+\u001b[0m \u001b[0mvalor_externo\u001b[0m\u001b[1;33m)\u001b[0m  \u001b[1;31m# queremos unir listas. ¿se podra?\u001b[0m\u001b[1;33m\u001b[0m\u001b[1;33m\u001b[0m\u001b[0m\n",
      "\u001b[0m\n"
     ]
    },
    {
     "name": "stdin",
     "output_type": "stream",
     "text": [
      "ipdb>  print(\"Salta cuando algo da error\")\n"
     ]
    },
    {
     "name": "stdout",
     "output_type": "stream",
     "text": [
      "Salta cuando algo da error\n"
     ]
    },
    {
     "name": "stdin",
     "output_type": "stream",
     "text": [
      "ipdb>  valor_externo\n"
     ]
    },
    {
     "name": "stdout",
     "output_type": "stream",
     "text": [
      "range(0, 10)\n"
     ]
    },
    {
     "name": "stdin",
     "output_type": "stream",
     "text": [
      "ipdb>  valor_externo = list(valor_externo)\n",
      "ipdb>  continue\n"
     ]
    }
   ],
   "source": [
    "# podemos leer y modificar datos durante la interrupcion\n",
    "valor_externo = range(10)  # nos llega desde otro script o programa en red\n",
    "valor_actual = [1.5, 2.0]\n",
    "\n",
    "print(valor_actual + valor_externo)  # queremos unir listas. ¿se podra?"
   ]
  },
  {
   "cell_type": "code",
   "execution_count": 24,
   "metadata": {},
   "outputs": [
    {
     "name": "stdout",
     "output_type": "stream",
     "text": [
      "Automatic pdb calling has been turned OFF\n"
     ]
    }
   ],
   "source": [
    "%pdb"
   ]
  },
  {
   "cell_type": "markdown",
   "metadata": {},
   "source": [
    "👉 [más info](https://docs.python-guide.org/writing/tests/) 👈"
   ]
  },
  {
   "cell_type": "markdown",
   "metadata": {},
   "source": [
    "---\n",
    "\n",
    "## Librerias de cálculo computacional\n",
    "\n",
    "Python es muy popular para Machine Learning. Algunas de las librerias más conocidas son `numpy`, `pandas`, `matplotlib`, `scikit-learn`, `scipy`, y algunas orientadas a redes neuronales, como son `tensorflow` o `pytorch`.\n",
    "\n",
    "### Numpy\n",
    "\n",
    "Numpy es el paquete de **computación numérica** más usado de Python. Proporciona una infinidad de estructuras de datos y funciones que permiten el manejo masivo de datos. Es rápido gracias a que ejecuta C por debajo (como si no 😉), y **permite realizar operaciones entre conjuntos grandes de datos**, con un estilo similar a lo que se puede hacer en <u>Matlab y R</u>. Veamos un ejemplo:"
   ]
  },
  {
   "cell_type": "code",
   "execution_count": 45,
   "metadata": {},
   "outputs": [
    {
     "data": {
      "text/plain": [
       "[1, 2, 3, 0, 0, 0]"
      ]
     },
     "execution_count": 45,
     "metadata": {},
     "output_type": "execute_result"
    }
   ],
   "source": [
    "lista1 = [1,2,3]\n",
    "lista2 = [0,0,0]\n",
    "\n",
    "lista1 + lista2"
   ]
  },
  {
   "cell_type": "markdown",
   "metadata": {},
   "source": [
    "No era lo esperado, ¿no?\n",
    "\n",
    "En `numpy`, **la estructura básica es el array**, que es el \"equivalente\" a la lista en Python. Al igual que una lista, puede tener 1 o más dimensiones y puede tener varios tipos de datos alojados, aunque lo más frecuente es que solo tenga un tipo.\n",
    "\n",
    "Aún así, **la estructura más comun es el nd-array o array multidimensional**, pues permite almacenar datos en varios niveles de organización."
   ]
  },
  {
   "cell_type": "code",
   "execution_count": 48,
   "metadata": {},
   "outputs": [
    {
     "data": {
      "text/plain": [
       "array([1, 2, 3])"
      ]
     },
     "execution_count": 48,
     "metadata": {},
     "output_type": "execute_result"
    }
   ],
   "source": [
    "import numpy as np\n",
    "\n",
    "lista1 = np.array([1,2,3])\n",
    "lista2 = np.array([0,0,0])\n",
    "\n",
    "lista1 + lista2"
   ]
  },
  {
   "cell_type": "markdown",
   "metadata": {},
   "source": [
    "La mayoría de funciones para crear estructuras de datos, necesitan conocer la **forma** de la matriz que queremos generar. Entendemos que <u> una lista de N valores es una matriz $1 \\times N$ o bien $N \\times 1$</u>"
   ]
  },
  {
   "cell_type": "code",
   "execution_count": 59,
   "metadata": {},
   "outputs": [
    {
     "name": "stdout",
     "output_type": "stream",
     "text": [
      "[[1. 0. 0. 0.]\n",
      " [0. 1. 0. 0.]\n",
      " [0. 0. 1. 0.]\n",
      " [0. 0. 0. 1.]]\n"
     ]
    }
   ],
   "source": [
    "matriz_cuadrada = (4,4)  # siempre se usan tuplas!\n",
    "\n",
    "ceros = np.zeros(matriz_cuadrada)\n",
    "matriz_identidad = np.identity(4)  # las matrices identidades siempre son cuadradas\n",
    "\n",
    "print(matriz_identidad + ceros)"
   ]
  },
  {
   "cell_type": "code",
   "execution_count": 56,
   "metadata": {},
   "outputs": [
    {
     "data": {
      "text/plain": [
       "array([[1., 0., 0., 0.],\n",
       "       [0., 1., 0., 0.],\n",
       "       [0., 0., 1., 0.],\n",
       "       [0., 0., 0., 1.]])"
      ]
     },
     "execution_count": 56,
     "metadata": {},
     "output_type": "execute_result"
    }
   ],
   "source": [
    "np.identity(4)"
   ]
  },
  {
   "cell_type": "code",
   "execution_count": 68,
   "metadata": {},
   "outputs": [
    {
     "data": {
      "text/plain": [
       "array([[0.00000000e+000, 0.00000000e+000, 0.00000000e+000],\n",
       "       [0.00000000e+000, 0.00000000e+000, 7.13430793e-321],\n",
       "       [8.70018274e-313, 2.31297541e-312, 0.00000000e+000]])"
      ]
     },
     "execution_count": 68,
     "metadata": {},
     "output_type": "execute_result"
    }
   ],
   "source": [
    "np.empty((3, 3))"
   ]
  },
  {
   "cell_type": "code",
   "execution_count": 70,
   "metadata": {},
   "outputs": [
    {
     "data": {
      "text/plain": [
       "array([[1., 1.],\n",
       "       [1., 1.]])"
      ]
     },
     "execution_count": 70,
     "metadata": {},
     "output_type": "execute_result"
    }
   ],
   "source": [
    "np.ones((2,2))  # fijate en los parentesis de la tupla!\n",
    "# np.ones(2,2)  # da error!"
   ]
  },
  {
   "cell_type": "code",
   "execution_count": 93,
   "metadata": {},
   "outputs": [
    {
     "name": "stdout",
     "output_type": "stream",
     "text": [
      "arr0.shape = (3,)\n",
      "\n",
      " [[0.2]\n",
      " [0.4]\n",
      " [0.6]]\n",
      "\n",
      " [[0.2 0.4 0.6]]\n"
     ]
    }
   ],
   "source": [
    "arr0 = np.array([0.2, 0.4, 0.6])\n",
    "print(f\"arr0.shape = {arr0.shape}\")  # por que??\n",
    "\n",
    "arr0.shape = (3, 1)\n",
    "\n",
    "print(\"\\n\", arr0)\n",
    "print(\"\\n\", arr0.transpose())"
   ]
  },
  {
   "cell_type": "code",
   "execution_count": 74,
   "metadata": {},
   "outputs": [
    {
     "name": "stdout",
     "output_type": "stream",
     "text": [
      "[arr1; arr2] = \n",
      "[[1 2 3]\n",
      " [4 5 6]]\n"
     ]
    }
   ],
   "source": [
    "arr1 = np.array([1,2,3])\n",
    "arr2 = np.array([4,5,6])\n",
    "\n",
    "print(f\"[arr1; arr2] = \\n{np.vstack([arr1, arr2])}\")"
   ]
  },
  {
   "cell_type": "code",
   "execution_count": 101,
   "metadata": {},
   "outputs": [
    {
     "name": "stdout",
     "output_type": "stream",
     "text": [
      "[arr3 arr4] = \n",
      "[[1.  1.5]\n",
      " [2.  2.5]\n",
      " [3.  3.5]]\n"
     ]
    }
   ],
   "source": [
    "arr3 = np.array([1,2,3])\n",
    "arr3.shape = (3, 1)\n",
    "arr4 = arr3 + .5\n",
    "\n",
    "print(f\"[arr3 arr4] = \\n{np.hstack([arr3, arr4])}\")"
   ]
  },
  {
   "cell_type": "code",
   "execution_count": 102,
   "metadata": {},
   "outputs": [
    {
     "data": {
      "text/plain": [
       "2.0"
      ]
     },
     "execution_count": 102,
     "metadata": {},
     "output_type": "execute_result"
    }
   ],
   "source": [
    "np.mean(arr1)"
   ]
  },
  {
   "cell_type": "code",
   "execution_count": 111,
   "metadata": {},
   "outputs": [
    {
     "name": "stdout",
     "output_type": "stream",
     "text": [
      "sum([1, 2, 3]) = 6\n",
      "np.sum([[1 2 3]]) = 6\n"
     ]
    }
   ],
   "source": [
    "print(f\"sum({list1}) = {sum(list1)}\")\n",
    "print(f\"np.sum({arr1.transpose()}) = {np.sum(arr1)}\")"
   ]
  },
  {
   "cell_type": "markdown",
   "metadata": {},
   "source": [
    "Una característica fundamental de `numpy` es el ***broadcasting*** o \"propagación\", que asegura la posibilidad de realizar operaciones aritmeticas (suma o multiplicacion) entre matrices que, bien no tienen las mismas dimensiones, pero son *compatibles*. Veámoslo:\n",
    "\n",
    "<img src=\"https://i.imgur.com/6JjFuXp.png\" width=\"40%\"/>\n",
    "\n",
    "Si quieres saber más de `numpy`, te recomiendo el siguiente enlace:\n",
    "\n",
    "👉 [más info](https://claudiovz.github.io/scipy-lecture-notes-ES/intro/numpy/index.html) 👈"
   ]
  },
  {
   "cell_type": "markdown",
   "metadata": {},
   "source": [
    "### Pandas\n",
    "\n",
    "`pandas` es **la libreria estrella cuando hablamos de ciencia de datos en Python**. En cierto modo, trata de traer a Python las **tablas de R o `data.frame`s** (*df* pa' los amigos), algo así como una matriz con esteroides.\n",
    "\n",
    "<img src=\"https://media.geeksforgeeks.org/wp-content/uploads/finallpandas.png\" width=\"40%\"/>\n",
    "<br/>\n",
    "\n",
    "`pandas` permite leer y modificar conjuntos de datos (*datasets*) de manera sencilla, usando una sintaxis similar a `numpy` para el manejo de matrices. Además, proporciona utilidades para el manejo de ficheros, asi como para detectar datos \"vacíos\" y calcular valores acumulados.\n",
    "\n",
    "<br/>\n",
    "<img src=\"https://i.imgur.com/gjh6p6T.png\" width=\"60%\"/>\n"
   ]
  },
  {
   "cell_type": "code",
   "execution_count": 112,
   "metadata": {},
   "outputs": [
    {
     "ename": "ModuleNotFoundError",
     "evalue": "No module named 'seaborn'",
     "output_type": "error",
     "traceback": [
      "\u001b[1;31m---------------------------------------------------------------------------\u001b[0m",
      "\u001b[1;31mModuleNotFoundError\u001b[0m                       Traceback (most recent call last)",
      "\u001b[1;32m<ipython-input-112-61e0adcaee13>\u001b[0m in \u001b[0;36m<module>\u001b[1;34m\u001b[0m\n\u001b[0;32m      1\u001b[0m \u001b[1;32mimport\u001b[0m \u001b[0mpandas\u001b[0m \u001b[1;32mas\u001b[0m \u001b[0mpd\u001b[0m\u001b[1;33m\u001b[0m\u001b[1;33m\u001b[0m\u001b[0m\n\u001b[1;32m----> 2\u001b[1;33m \u001b[1;32mimport\u001b[0m \u001b[0mseaborn\u001b[0m \u001b[1;32mas\u001b[0m \u001b[0msns\u001b[0m\u001b[1;33m\u001b[0m\u001b[1;33m\u001b[0m\u001b[0m\n\u001b[0m",
      "\u001b[1;31mModuleNotFoundError\u001b[0m: No module named 'seaborn'"
     ]
    }
   ],
   "source": [
    "import pandas as pd\n",
    "import seaborn as sns  # ejecuta la cápsula de abajo y vuelve a ejecutar ésto!"
   ]
  },
  {
   "cell_type": "code",
   "execution_count": 113,
   "metadata": {},
   "outputs": [
    {
     "name": "stdout",
     "output_type": "stream",
     "text": [
      "Collecting seaborn\n",
      "  Downloading seaborn-0.10.0-py3-none-any.whl (215 kB)\n",
      "Requirement already satisfied: pandas>=0.22.0 in c:\\users\\pachacho\\miniconda3\\envs\\pycourse\\lib\\site-packages (from seaborn) (1.0.2)\n",
      "Collecting scipy>=1.0.1\n",
      "  Downloading scipy-1.4.1-cp37-cp37m-win_amd64.whl (30.9 MB)\n",
      "Requirement already satisfied: numpy>=1.13.3 in c:\\users\\pachacho\\miniconda3\\envs\\pycourse\\lib\\site-packages (from seaborn) (1.18.2)\n",
      "Collecting matplotlib>=2.1.2\n",
      "  Downloading matplotlib-3.2.1-cp37-cp37m-win_amd64.whl (9.2 MB)\n",
      "Requirement already satisfied: python-dateutil>=2.6.1 in c:\\users\\pachacho\\miniconda3\\envs\\pycourse\\lib\\site-packages (from pandas>=0.22.0->seaborn) (2.8.1)\n",
      "Requirement already satisfied: pytz>=2017.2 in c:\\users\\pachacho\\miniconda3\\envs\\pycourse\\lib\\site-packages (from pandas>=0.22.0->seaborn) (2019.3)\n",
      "Collecting cycler>=0.10\n",
      "  Downloading cycler-0.10.0-py2.py3-none-any.whl (6.5 kB)\n",
      "Collecting kiwisolver>=1.0.1\n",
      "  Downloading kiwisolver-1.1.0-cp37-none-win_amd64.whl (57 kB)\n",
      "Collecting pyparsing!=2.0.4,!=2.1.2,!=2.1.6,>=2.0.1\n",
      "  Downloading pyparsing-2.4.6-py2.py3-none-any.whl (67 kB)\n",
      "Requirement already satisfied: six>=1.5 in c:\\users\\pachacho\\miniconda3\\envs\\pycourse\\lib\\site-packages (from python-dateutil>=2.6.1->pandas>=0.22.0->seaborn) (1.14.0)\n",
      "Requirement already satisfied: setuptools in c:\\users\\pachacho\\miniconda3\\envs\\pycourse\\lib\\site-packages (from kiwisolver>=1.0.1->matplotlib>=2.1.2->seaborn) (46.0.0.post20200309)\n",
      "Installing collected packages: scipy, cycler, kiwisolver, pyparsing, matplotlib, seaborn\n",
      "Successfully installed cycler-0.10.0 kiwisolver-1.1.0 matplotlib-3.2.1 pyparsing-2.4.6 scipy-1.4.1 seaborn-0.10.0\n"
     ]
    }
   ],
   "source": [
    "# si escribes \"!\" al principio de la linea, puedes llamar a programas y comandos del shell / linea de comandos (ya sea shell, bash, cmd o Powershell)\n",
    "!pip install seaborn"
   ]
  },
  {
   "cell_type": "code",
   "execution_count": 115,
   "metadata": {},
   "outputs": [
    {
     "data": {
      "text/html": [
       "<div>\n",
       "<style scoped>\n",
       "    .dataframe tbody tr th:only-of-type {\n",
       "        vertical-align: middle;\n",
       "    }\n",
       "\n",
       "    .dataframe tbody tr th {\n",
       "        vertical-align: top;\n",
       "    }\n",
       "\n",
       "    .dataframe thead th {\n",
       "        text-align: right;\n",
       "    }\n",
       "</style>\n",
       "<table border=\"1\" class=\"dataframe\">\n",
       "  <thead>\n",
       "    <tr style=\"text-align: right;\">\n",
       "      <th></th>\n",
       "      <th>sepal_length</th>\n",
       "      <th>sepal_width</th>\n",
       "      <th>petal_length</th>\n",
       "      <th>petal_width</th>\n",
       "      <th>species</th>\n",
       "    </tr>\n",
       "  </thead>\n",
       "  <tbody>\n",
       "    <tr>\n",
       "      <th>0</th>\n",
       "      <td>5.1</td>\n",
       "      <td>3.5</td>\n",
       "      <td>1.4</td>\n",
       "      <td>0.2</td>\n",
       "      <td>setosa</td>\n",
       "    </tr>\n",
       "    <tr>\n",
       "      <th>1</th>\n",
       "      <td>4.9</td>\n",
       "      <td>3.0</td>\n",
       "      <td>1.4</td>\n",
       "      <td>0.2</td>\n",
       "      <td>setosa</td>\n",
       "    </tr>\n",
       "    <tr>\n",
       "      <th>2</th>\n",
       "      <td>4.7</td>\n",
       "      <td>3.2</td>\n",
       "      <td>1.3</td>\n",
       "      <td>0.2</td>\n",
       "      <td>setosa</td>\n",
       "    </tr>\n",
       "    <tr>\n",
       "      <th>3</th>\n",
       "      <td>4.6</td>\n",
       "      <td>3.1</td>\n",
       "      <td>1.5</td>\n",
       "      <td>0.2</td>\n",
       "      <td>setosa</td>\n",
       "    </tr>\n",
       "    <tr>\n",
       "      <th>4</th>\n",
       "      <td>5.0</td>\n",
       "      <td>3.6</td>\n",
       "      <td>1.4</td>\n",
       "      <td>0.2</td>\n",
       "      <td>setosa</td>\n",
       "    </tr>\n",
       "  </tbody>\n",
       "</table>\n",
       "</div>"
      ],
      "text/plain": [
       "   sepal_length  sepal_width  petal_length  petal_width species\n",
       "0           5.1          3.5           1.4          0.2  setosa\n",
       "1           4.9          3.0           1.4          0.2  setosa\n",
       "2           4.7          3.2           1.3          0.2  setosa\n",
       "3           4.6          3.1           1.5          0.2  setosa\n",
       "4           5.0          3.6           1.4          0.2  setosa"
      ]
     },
     "execution_count": 115,
     "metadata": {},
     "output_type": "execute_result"
    }
   ],
   "source": [
    "import pandas as pd\n",
    "import seaborn as sns\n",
    "\n",
    "# otra manera es cargarlo directamente\n",
    "# iris = pd.read_csv('https://raw.githubusercontent.com/mwaskom/seaborn-data/master/iris.csv')\n",
    "iris = sns.load_dataset('iris')\n",
    "iris.head()"
   ]
  },
  {
   "cell_type": "code",
   "execution_count": 121,
   "metadata": {},
   "outputs": [
    {
     "name": "stdout",
     "output_type": "stream",
     "text": [
      " Tipo: <class 'pandas.core.frame.DataFrame'>\n",
      " Columnas: ['sepal_length', 'sepal_width', 'petal_length', 'petal_width', 'species']\n",
      "\n"
     ]
    }
   ],
   "source": [
    "print(f\" Tipo: {type(iris)}\\n Columnas: {list(iris.columns)}\\n\")"
   ]
  },
  {
   "cell_type": "code",
   "execution_count": 129,
   "metadata": {},
   "outputs": [
    {
     "data": {
      "text/html": [
       "<div>\n",
       "<style scoped>\n",
       "    .dataframe tbody tr th:only-of-type {\n",
       "        vertical-align: middle;\n",
       "    }\n",
       "\n",
       "    .dataframe tbody tr th {\n",
       "        vertical-align: top;\n",
       "    }\n",
       "\n",
       "    .dataframe thead th {\n",
       "        text-align: right;\n",
       "    }\n",
       "</style>\n",
       "<table border=\"1\" class=\"dataframe\">\n",
       "  <thead>\n",
       "    <tr style=\"text-align: right;\">\n",
       "      <th></th>\n",
       "      <th>sepal_length</th>\n",
       "      <th>sepal_width</th>\n",
       "      <th>petal_length</th>\n",
       "      <th>petal_width</th>\n",
       "      <th>species</th>\n",
       "    </tr>\n",
       "  </thead>\n",
       "  <tbody>\n",
       "    <tr>\n",
       "      <th>1</th>\n",
       "      <td>4.9</td>\n",
       "      <td>3.0</td>\n",
       "      <td>1.4</td>\n",
       "      <td>0.2</td>\n",
       "      <td>setosa</td>\n",
       "    </tr>\n",
       "    <tr>\n",
       "      <th>2</th>\n",
       "      <td>4.7</td>\n",
       "      <td>3.2</td>\n",
       "      <td>1.3</td>\n",
       "      <td>0.2</td>\n",
       "      <td>setosa</td>\n",
       "    </tr>\n",
       "    <tr>\n",
       "      <th>3</th>\n",
       "      <td>4.6</td>\n",
       "      <td>3.1</td>\n",
       "      <td>1.5</td>\n",
       "      <td>0.2</td>\n",
       "      <td>setosa</td>\n",
       "    </tr>\n",
       "  </tbody>\n",
       "</table>\n",
       "</div>"
      ],
      "text/plain": [
       "   sepal_length  sepal_width  petal_length  petal_width species\n",
       "1           4.9          3.0           1.4          0.2  setosa\n",
       "2           4.7          3.2           1.3          0.2  setosa\n",
       "3           4.6          3.1           1.5          0.2  setosa"
      ]
     },
     "execution_count": 129,
     "metadata": {},
     "output_type": "execute_result"
    }
   ],
   "source": [
    "iris[1:4] # seleccionar una o mas filas [inicio, final)"
   ]
  },
  {
   "cell_type": "code",
   "execution_count": 130,
   "metadata": {},
   "outputs": [
    {
     "data": {
      "text/plain": [
       "0         setosa\n",
       "1         setosa\n",
       "2         setosa\n",
       "3         setosa\n",
       "4         setosa\n",
       "         ...    \n",
       "145    virginica\n",
       "146    virginica\n",
       "147    virginica\n",
       "148    virginica\n",
       "149    virginica\n",
       "Name: species, Length: 150, dtype: object"
      ]
     },
     "execution_count": 130,
     "metadata": {},
     "output_type": "execute_result"
    }
   ],
   "source": [
    "iris[\"species\"] # seleccionar columna"
   ]
  },
  {
   "cell_type": "code",
   "execution_count": 131,
   "metadata": {},
   "outputs": [
    {
     "data": {
      "text/plain": [
       "1    setosa\n",
       "2    setosa\n",
       "3    setosa\n",
       "4    setosa\n",
       "Name: species, dtype: object"
      ]
     },
     "execution_count": 131,
     "metadata": {},
     "output_type": "execute_result"
    }
   ],
   "source": [
    "iris.loc[1:4, \"species\"]  # seleccionar un subconjunto del dataframe [inicio, final]"
   ]
  },
  {
   "cell_type": "code",
   "execution_count": 132,
   "metadata": {},
   "outputs": [
    {
     "data": {
      "text/plain": [
       "1    setosa\n",
       "2    setosa\n",
       "3    setosa\n",
       "Name: species, dtype: object"
      ]
     },
     "execution_count": 132,
     "metadata": {},
     "output_type": "execute_result"
    }
   ],
   "source": [
    "iris.iloc[1:4, 4]  # seleccionar un subconjunto del dataframe, escogiendo la columna por su posicion [inicio, final)"
   ]
  },
  {
   "cell_type": "markdown",
   "metadata": {},
   "source": [
    "> Fíjate! Si al final del comentario ves *\\[inicio, final)*, es porque el ultimo indice no se extrae (ej. 1:4 solo extrae las filas 1,2,3)"
   ]
  },
  {
   "cell_type": "code",
   "execution_count": 138,
   "metadata": {},
   "outputs": [
    {
     "data": {
      "text/plain": [
       "(150, 5)"
      ]
     },
     "execution_count": 138,
     "metadata": {},
     "output_type": "execute_result"
    }
   ],
   "source": [
    "iris.shape"
   ]
  },
  {
   "cell_type": "code",
   "execution_count": 140,
   "metadata": {},
   "outputs": [
    {
     "data": {
      "text/html": [
       "<div>\n",
       "<style scoped>\n",
       "    .dataframe tbody tr th:only-of-type {\n",
       "        vertical-align: middle;\n",
       "    }\n",
       "\n",
       "    .dataframe tbody tr th {\n",
       "        vertical-align: top;\n",
       "    }\n",
       "\n",
       "    .dataframe thead th {\n",
       "        text-align: right;\n",
       "    }\n",
       "</style>\n",
       "<table border=\"1\" class=\"dataframe\">\n",
       "  <thead>\n",
       "    <tr style=\"text-align: right;\">\n",
       "      <th></th>\n",
       "      <th>sepal_length</th>\n",
       "      <th>sepal_width</th>\n",
       "      <th>petal_length</th>\n",
       "      <th>petal_width</th>\n",
       "      <th>species</th>\n",
       "    </tr>\n",
       "  </thead>\n",
       "  <tbody>\n",
       "    <tr>\n",
       "      <th>100</th>\n",
       "      <td>6.3</td>\n",
       "      <td>3.3</td>\n",
       "      <td>6.0</td>\n",
       "      <td>2.5</td>\n",
       "      <td>virginica</td>\n",
       "    </tr>\n",
       "    <tr>\n",
       "      <th>101</th>\n",
       "      <td>5.8</td>\n",
       "      <td>2.7</td>\n",
       "      <td>5.1</td>\n",
       "      <td>1.9</td>\n",
       "      <td>virginica</td>\n",
       "    </tr>\n",
       "    <tr>\n",
       "      <th>102</th>\n",
       "      <td>7.1</td>\n",
       "      <td>3.0</td>\n",
       "      <td>5.9</td>\n",
       "      <td>2.1</td>\n",
       "      <td>virginica</td>\n",
       "    </tr>\n",
       "  </tbody>\n",
       "</table>\n",
       "</div>"
      ],
      "text/plain": [
       "     sepal_length  sepal_width  petal_length  petal_width    species\n",
       "100           6.3          3.3           6.0          2.5  virginica\n",
       "101           5.8          2.7           5.1          1.9  virginica\n",
       "102           7.1          3.0           5.9          2.1  virginica"
      ]
     },
     "execution_count": 140,
     "metadata": {},
     "output_type": "execute_result"
    }
   ],
   "source": [
    "iris[iris[\"species\"] == \"virginica\"].head(3)"
   ]
  },
  {
   "cell_type": "code",
   "execution_count": 141,
   "metadata": {},
   "outputs": [
    {
     "data": {
      "text/plain": [
       "(150, 5)"
      ]
     },
     "execution_count": 141,
     "metadata": {},
     "output_type": "execute_result"
    }
   ],
   "source": [
    "iris.dropna().shape  # por suerte este dataset nos lo dan limpito :)"
   ]
  },
  {
   "cell_type": "code",
   "execution_count": 142,
   "metadata": {},
   "outputs": [
    {
     "data": {
      "text/html": [
       "<div>\n",
       "<style scoped>\n",
       "    .dataframe tbody tr th:only-of-type {\n",
       "        vertical-align: middle;\n",
       "    }\n",
       "\n",
       "    .dataframe tbody tr th {\n",
       "        vertical-align: top;\n",
       "    }\n",
       "\n",
       "    .dataframe thead th {\n",
       "        text-align: right;\n",
       "    }\n",
       "</style>\n",
       "<table border=\"1\" class=\"dataframe\">\n",
       "  <thead>\n",
       "    <tr style=\"text-align: right;\">\n",
       "      <th></th>\n",
       "      <th>sepal_length</th>\n",
       "      <th>sepal_width</th>\n",
       "      <th>petal_length</th>\n",
       "      <th>petal_width</th>\n",
       "    </tr>\n",
       "    <tr>\n",
       "      <th>species</th>\n",
       "      <th></th>\n",
       "      <th></th>\n",
       "      <th></th>\n",
       "      <th></th>\n",
       "    </tr>\n",
       "  </thead>\n",
       "  <tbody>\n",
       "    <tr>\n",
       "      <th>setosa</th>\n",
       "      <td>5.006</td>\n",
       "      <td>3.428</td>\n",
       "      <td>1.462</td>\n",
       "      <td>0.246</td>\n",
       "    </tr>\n",
       "    <tr>\n",
       "      <th>versicolor</th>\n",
       "      <td>5.936</td>\n",
       "      <td>2.770</td>\n",
       "      <td>4.260</td>\n",
       "      <td>1.326</td>\n",
       "    </tr>\n",
       "    <tr>\n",
       "      <th>virginica</th>\n",
       "      <td>6.588</td>\n",
       "      <td>2.974</td>\n",
       "      <td>5.552</td>\n",
       "      <td>2.026</td>\n",
       "    </tr>\n",
       "  </tbody>\n",
       "</table>\n",
       "</div>"
      ],
      "text/plain": [
       "            sepal_length  sepal_width  petal_length  petal_width\n",
       "species                                                         \n",
       "setosa             5.006        3.428         1.462        0.246\n",
       "versicolor         5.936        2.770         4.260        1.326\n",
       "virginica          6.588        2.974         5.552        2.026"
      ]
     },
     "execution_count": 142,
     "metadata": {},
     "output_type": "execute_result"
    }
   ],
   "source": [
    "iris.groupby(\"species\").mean()"
   ]
  },
  {
   "cell_type": "code",
   "execution_count": 143,
   "metadata": {},
   "outputs": [
    {
     "data": {
      "text/html": [
       "<div>\n",
       "<style scoped>\n",
       "    .dataframe tbody tr th:only-of-type {\n",
       "        vertical-align: middle;\n",
       "    }\n",
       "\n",
       "    .dataframe tbody tr th {\n",
       "        vertical-align: top;\n",
       "    }\n",
       "\n",
       "    .dataframe thead th {\n",
       "        text-align: right;\n",
       "    }\n",
       "</style>\n",
       "<table border=\"1\" class=\"dataframe\">\n",
       "  <thead>\n",
       "    <tr style=\"text-align: right;\">\n",
       "      <th></th>\n",
       "      <th>sepal_length</th>\n",
       "      <th>sepal_width</th>\n",
       "      <th>petal_length</th>\n",
       "      <th>petal_width</th>\n",
       "      <th>species</th>\n",
       "      <th>sepia_Length</th>\n",
       "    </tr>\n",
       "  </thead>\n",
       "  <tbody>\n",
       "    <tr>\n",
       "      <th>0</th>\n",
       "      <td>5.1</td>\n",
       "      <td>3.5</td>\n",
       "      <td>1.4</td>\n",
       "      <td>0.2</td>\n",
       "      <td>setosa</td>\n",
       "      <td>1.457143</td>\n",
       "    </tr>\n",
       "    <tr>\n",
       "      <th>1</th>\n",
       "      <td>4.9</td>\n",
       "      <td>3.0</td>\n",
       "      <td>1.4</td>\n",
       "      <td>0.2</td>\n",
       "      <td>setosa</td>\n",
       "      <td>1.633333</td>\n",
       "    </tr>\n",
       "    <tr>\n",
       "      <th>2</th>\n",
       "      <td>4.7</td>\n",
       "      <td>3.2</td>\n",
       "      <td>1.3</td>\n",
       "      <td>0.2</td>\n",
       "      <td>setosa</td>\n",
       "      <td>1.468750</td>\n",
       "    </tr>\n",
       "  </tbody>\n",
       "</table>\n",
       "</div>"
      ],
      "text/plain": [
       "   sepal_length  sepal_width  petal_length  petal_width species  sepia_Length\n",
       "0           5.1          3.5           1.4          0.2  setosa      1.457143\n",
       "1           4.9          3.0           1.4          0.2  setosa      1.633333\n",
       "2           4.7          3.2           1.3          0.2  setosa      1.468750"
      ]
     },
     "execution_count": 143,
     "metadata": {},
     "output_type": "execute_result"
    }
   ],
   "source": [
    "iris[\"sepia_Length\"] = iris[\"sepal_length\"] / iris[\"sepal_width\"]\n",
    "iris.head(3)"
   ]
  },
  {
   "cell_type": "code",
   "execution_count": 145,
   "metadata": {},
   "outputs": [
    {
     "data": {
      "text/html": [
       "<div>\n",
       "<style scoped>\n",
       "    .dataframe tbody tr th:only-of-type {\n",
       "        vertical-align: middle;\n",
       "    }\n",
       "\n",
       "    .dataframe tbody tr th {\n",
       "        vertical-align: top;\n",
       "    }\n",
       "\n",
       "    .dataframe thead th {\n",
       "        text-align: right;\n",
       "    }\n",
       "</style>\n",
       "<table border=\"1\" class=\"dataframe\">\n",
       "  <thead>\n",
       "    <tr style=\"text-align: right;\">\n",
       "      <th></th>\n",
       "      <th>sepal_length</th>\n",
       "      <th>sepal_width</th>\n",
       "      <th>petal_length</th>\n",
       "      <th>petal_width</th>\n",
       "      <th>species</th>\n",
       "      <th>borra_esta</th>\n",
       "    </tr>\n",
       "  </thead>\n",
       "  <tbody>\n",
       "    <tr>\n",
       "      <th>0</th>\n",
       "      <td>5.1</td>\n",
       "      <td>3.5</td>\n",
       "      <td>1.4</td>\n",
       "      <td>0.2</td>\n",
       "      <td>setosa</td>\n",
       "      <td>1.457143</td>\n",
       "    </tr>\n",
       "    <tr>\n",
       "      <th>1</th>\n",
       "      <td>4.9</td>\n",
       "      <td>3.0</td>\n",
       "      <td>1.4</td>\n",
       "      <td>0.2</td>\n",
       "      <td>setosa</td>\n",
       "      <td>1.633333</td>\n",
       "    </tr>\n",
       "    <tr>\n",
       "      <th>2</th>\n",
       "      <td>4.7</td>\n",
       "      <td>3.2</td>\n",
       "      <td>1.3</td>\n",
       "      <td>0.2</td>\n",
       "      <td>setosa</td>\n",
       "      <td>1.468750</td>\n",
       "    </tr>\n",
       "  </tbody>\n",
       "</table>\n",
       "</div>"
      ],
      "text/plain": [
       "   sepal_length  sepal_width  petal_length  petal_width species  borra_esta\n",
       "0           5.1          3.5           1.4          0.2  setosa    1.457143\n",
       "1           4.9          3.0           1.4          0.2  setosa    1.633333\n",
       "2           4.7          3.2           1.3          0.2  setosa    1.468750"
      ]
     },
     "execution_count": 145,
     "metadata": {},
     "output_type": "execute_result"
    }
   ],
   "source": [
    "iris.rename(columns = { \"sepia_Length\": \"borra_esta\" }, inplace=True)  # ojito! Algunas funciones devuelven una copia del df modificado\n",
    "iris.head(3)"
   ]
  },
  {
   "cell_type": "markdown",
   "metadata": {},
   "source": [
    "Ten en cuenta que, al igual que con el manejo de BBDD, **una función poco eficiente para filtrar varias tablas puede significar 2h más** esperando.\n",
    "\n",
    "De cara al tratamiento de datos, hay una forma bastante popular en la comunidad de R llamada [***tidy data***](https://es.r4ds.hadley.nz/datos-ordenados.html) (\"datos organizados\"). Esta metodología se centra en usar un cjto. de verbos para referirnos a la modificación de datos (algo parecido a prog. funcional).\n",
    "\n",
    "👉 [más info](https://tomaugspurger.github.io/modern-5-tidy.html) para aprender más de *tidy data* 👈\n",
    "\n",
    "👉 [más info](https://likegeeks.com/es/tutorial-de-python-pandas/) para aprender más de `pandas` 👈"
   ]
  },
  {
   "cell_type": "markdown",
   "metadata": {},
   "source": [
    "---\n",
    "\n",
    "## Progamación funcional\n",
    "\n",
    "La programación funcional es un **paradigma de la programación**, basada en el *lambda calculus*. Realmente ya has dado algo de programación funcional en Python, aunque no te hayas dado cuenta. Las *listas por comprensión* (`[x for x in range(10)]`) y la compilación perezosa de funciones es algo ímplicito en el lenguaje. Además, podemos ver otras características de lenguajes funcionales en Python.\n",
    "\n",
    "Como antes comentamos, las funciones son *ciudadanos de primera clase* en Python. Ésto también se conoce como <u>funciones de alto orden</u>: virtualmente, toda función puede <u>ser usada como parámetro de otra función o devolver otra función</u>. Este último concepto, el de devolver otra función, también se conoce como <u>funciones parciales</u>, porque se aplican *parcialmente*.\n",
    "\n",
    "Muchas de las utilidades funcionales están ya incluidas (*built-in*), en la libreria estándar [*functools*][functools] o en  [*itertools*][itertools] (para generar, por ejemplo, secuencias infinitas).\n",
    "\n",
    "[functools]: https://docs.python.org/3.7/library/functools.html\n",
    "[itertools]: https://docs.python.org/3.7/library/itertools.html"
   ]
  },
  {
   "cell_type": "markdown",
   "metadata": {},
   "source": [
    "### Funciones parciales\n",
    "\n",
    "La idea principal es que **toda función $A$ con $N$ parámetros devuelve otra función $B$ con $N-1$ parámetros**, donde $B$ **tiene un estado interno diferente a $A$**. Ésto quiere decir que, al igual que las clases, las funciones pueden mantener un estado interno (como la referencia *self* en las clases!). Un ejemplo clásico es el cálculo del [número n de *fibonacci*][fib]:\n",
    "\n",
    "$f_{0}=0\\,$\n",
    "\n",
    "$f_{1}=1\\,$\n",
    "\n",
    "$f_n = f_{n-1} + f_{n-2}$\n",
    "\n",
    "[fib]: http://www.pythondiario.com/2018/08/sucesion-de-fibonacci-con-python.html"
   ]
  },
  {
   "cell_type": "code",
   "execution_count": 17,
   "metadata": {},
   "outputs": [
    {
     "data": {
      "text/plain": [
       "[0, 1, 1, 2, 3, 5, 8, 13, 21, 34, 55, 89, 144]"
      ]
     },
     "execution_count": 17,
     "metadata": {},
     "output_type": "execute_result"
    }
   ],
   "source": [
    "def configurar_fib():\n",
    "    a, b = 0, 1  # mantenemos un estado interno en la función. Esto se conoce como \"memoization\"\n",
    "    def fib(n):\n",
    "        if n == 0:\n",
    "            return a\n",
    "        elif n == 1:\n",
    "            return b\n",
    "        else:\n",
    "            return fib(n-1) + fib(n-2)\n",
    "    return fib\n",
    "        \n",
    "fib = configurar_fib()\n",
    "\n",
    "[fib(x) for x in range(13)]"
   ]
  },
  {
   "cell_type": "markdown",
   "metadata": {},
   "source": [
    "Existen dos maneras de crear funciones parciales en Python. La primera es hacerlo explícitamente:"
   ]
  },
  {
   "cell_type": "code",
   "execution_count": 8,
   "metadata": {},
   "outputs": [
    {
     "name": "stdout",
     "output_type": "stream",
     "text": [
      "2 + 4 = 6 | 10 + 2 = 12\n"
     ]
    }
   ],
   "source": [
    "def sumar_cantidad(cantidad):\n",
    "    def sumar(otro_elemento):\n",
    "        return otro_elemento + cantidad\n",
    "    \n",
    "    return sumar\n",
    "\n",
    "sumar_dos = sumar_cantidad(2) # creas una funcion aplicada parcialmente\n",
    "\n",
    "print(f\"2 + 4 = {sumar_dos(4)} | 10 + 2 = {sumar_dos(10)}\")"
   ]
  },
  {
   "cell_type": "markdown",
   "metadata": {},
   "source": [
    "Otra manera es usar el método `partial`:"
   ]
  },
  {
   "cell_type": "code",
   "execution_count": 9,
   "metadata": {},
   "outputs": [
    {
     "name": "stdout",
     "output_type": "stream",
     "text": [
      "2 + 4 = 6 | 10 + 2 = 12\n"
     ]
    }
   ],
   "source": [
    "from functools import partial\n",
    "\n",
    "def sumar(a, b):\n",
    "    return a + b\n",
    "\n",
    "sumar_dos = partial(sumar, b=2)  # hay que nombrar los parametros que vamos a \"sobrescribir\"\n",
    "\n",
    "print(f\"2 + 4 = {sumar_dos(4)} | 10 + 2 = {sumar_dos(10)}\")"
   ]
  },
  {
   "cell_type": "markdown",
   "metadata": {},
   "source": [
    "Existen, además, conceptos relacionados, como la [*currificación*][curry] o las [clausuras][cl].\n",
    "\n",
    "👉 [más info sobre funciones parciales](https://rico-schmidt.name/pymotw-3/functools/index.html) 👈\n",
    "\n",
    "👉 [más info sobre *memoization*](https://code-examples.net/es/q/1e58c4) 👈\n",
    "\n",
    "[curry]: https://www.campusmvp.es/recursos/post/Que-es-la-Currificacion-en-programacion-funcional.aspx\n",
    "[cl]: https://blog.ch3m4.org/2013/10/25/clausuras-en-python-parte-1/"
   ]
  },
  {
   "cell_type": "markdown",
   "metadata": {},
   "source": [
    "### Map, Filter, Reduce y Zip\n",
    "\n",
    "El **lenguaje funcional** permite una **abstracción** a la hora de **modificar estructuras de datos**. En vez de pensar cómo cambiar una estructura, como hacemos con un bucle `for`, **pasamos a pensar qué queremos cambiar**. Esto nos ahorra, por ejemplo, errores de acceso a memoria.\n",
    "\n",
    "Vamos a dar **4 funciones fundamentales de los lenguajes funcionales**:\n",
    "\n",
    "+ `map` permite <u>aplicar</u> a cada elemento de una estructura, <u>una función</u>. Por ejemplo, podemos sumar 1 a todos los elementos de una lista:\n"
   ]
  },
  {
   "cell_type": "code",
   "execution_count": 14,
   "metadata": {},
   "outputs": [
    {
     "data": {
      "text/plain": [
       "[2, 3, 4]"
      ]
     },
     "execution_count": 14,
     "metadata": {},
     "output_type": "execute_result"
    }
   ],
   "source": [
    "list1 = [1,2,3]\n",
    "\n",
    "def mas1(valor):\n",
    "    return valor + 1\n",
    "\n",
    "list(map(mas1, list1))"
   ]
  },
  {
   "cell_type": "markdown",
   "metadata": {},
   "source": [
    "+ `filter` permite <u>seleccionar</u> los elementos de una estructura que cumplan la función usada. Por ejemplo, podemos escoger solo los numeros pares de una lista:"
   ]
  },
  {
   "cell_type": "code",
   "execution_count": 16,
   "metadata": {},
   "outputs": [
    {
     "data": {
      "text/plain": [
       "[2]"
      ]
     },
     "execution_count": 16,
     "metadata": {},
     "output_type": "execute_result"
    }
   ],
   "source": [
    "def esPar(valor):\n",
    "    return valor % 2 == 0\n",
    "\n",
    "list(filter(esPar, list1))"
   ]
  },
  {
   "cell_type": "markdown",
   "metadata": {},
   "source": [
    "+ `reduce` permite <u>reorganizar</u> una estructura A para obtener otra estructura B. Normalmente, se usa para condensar estructuras complejas y conseguir estructuras mas simples, con valores acumulados. Por ejemplo, podemos sumar todos los elementos de una lista para obtener un valor total (una estructura más simple):"
   ]
  },
  {
   "cell_type": "code",
   "execution_count": 18,
   "metadata": {},
   "outputs": [
    {
     "data": {
      "text/plain": [
       "6"
      ]
     },
     "execution_count": 18,
     "metadata": {},
     "output_type": "execute_result"
    }
   ],
   "source": [
    "from functools import reduce\n",
    "\n",
    "def sumar(valor1, valor2):\n",
    "    # ojito! Ten en cuenta que, para 'reduce' el valor se acumula en el segundo (2do) valor\n",
    "    return valor1 + valor2\n",
    "\n",
    "reduce(sumar, list1)"
   ]
  },
  {
   "cell_type": "markdown",
   "metadata": {},
   "source": [
    "+ `zip` permite <u>agrupar</u> varias estructuras $A_x$ en una sola estructura $B$. La estructura $B$ está <u>formada por tuplas de los elementos de las estructuras $A_x$</u>. Por ejemplo, podemos agrupar los nombres y alturas de personas en una sola lista:"
   ]
  },
  {
   "cell_type": "code",
   "execution_count": 20,
   "metadata": {},
   "outputs": [
    {
     "data": {
      "text/plain": [
       "[('Quino', 181), ('Andres', 178), ('Fernando', 180)]"
      ]
     },
     "execution_count": 20,
     "metadata": {},
     "output_type": "execute_result"
    }
   ],
   "source": [
    "nombres = [\"Quino\", \"Andres\", \"Fernando\"]\n",
    "altura = [181, 178, 180]\n",
    "\n",
    "list(zip(nombres, altura))"
   ]
  },
  {
   "cell_type": "markdown",
   "metadata": {},
   "source": [
    "¿Por qué ocurre ésto? ¿Por qué hay que usar `list`? Respuesta: generadores (mira más abajo) 👇"
   ]
  },
  {
   "cell_type": "code",
   "execution_count": 21,
   "metadata": {},
   "outputs": [
    {
     "name": "stdout",
     "output_type": "stream",
     "text": [
      "<map object at 0x0000022FD5D08A08>\n",
      "<filter object at 0x0000022FD5D085C8>\n",
      "<zip object at 0x0000022FD5D089C8>\n"
     ]
    }
   ],
   "source": [
    "print(map(mas1, lista1))\n",
    "print(filter(esPar, lista1))\n",
    "print(zip(nombres, altura))"
   ]
  },
  {
   "cell_type": "markdown",
   "metadata": {},
   "source": [
    "Estas ideas se aplican en estructuras de procesamiento de datos a gran escala, como es ***MapReduce***:\n",
    "\n",
    "<img src=\"https://i.imgur.com/MCee3gs.jpg\" width=\"70%\"/>"
   ]
  },
  {
   "cell_type": "markdown",
   "metadata": {},
   "source": [
    "### Más listas por comprensión\n",
    "\n",
    "+ Una manera directa de definir un diccionario es usar una sintaxis similar a la que usamos para listas por comprensión"
   ]
  },
  {
   "cell_type": "code",
   "execution_count": 8,
   "metadata": {},
   "outputs": [
    {
     "name": "stdout",
     "output_type": "stream",
     "text": [
      "{'nombre': 'quino', 'altura': 180, 'esJoven': True}\n"
     ]
    }
   ],
   "source": [
    "keys = [\"nombre\", \"altura\", \"esJoven\"]\n",
    "values = [\"quino\", 180, True]\n",
    "#\n",
    "dict1 = dict(nombre=\"quino\", altura=180, esJoven=True)\n",
    "dict2 = {\"nombre\": \"quino\", \"altura\": 180, \"esJoven\": True}  # al estilo JSON / JavaScript\n",
    "dict3 = { key: value for (key, value) in zip(keys, values) }\n",
    "print(dict3)"
   ]
  },
  {
   "cell_type": "markdown",
   "metadata": {},
   "source": [
    "+ También están los *generadores*, algo fundamental para lenguajes como Haskell. Es como una lista, pero <u>no calcula todos los valores de la lista al momento</u>. Para obtener todos los valores, simplemente usa `list()`:"
   ]
  },
  {
   "cell_type": "code",
   "execution_count": 22,
   "metadata": {},
   "outputs": [
    {
     "name": "stdout",
     "output_type": "stream",
     "text": [
      "[0, 1, 2, 3, 4, 5, 6, 7, 8, 9]\n",
      "range(0, 10)\n",
      "<generator object <genexpr> at 0x0000022FD5C6E9C8>\n"
     ]
    }
   ],
   "source": [
    "lista1 = list(range(10))\n",
    "print(lista1)\n",
    "\n",
    "generador1 = range(10)\n",
    "print(generador1)\n",
    "\n",
    "generador2 = (x ** 2 for x in [1,2,3])\n",
    "print(generador2)"
   ]
  },
  {
   "cell_type": "markdown",
   "metadata": {},
   "source": [
    "### Inmutabilidad de datos\n",
    "\n",
    "Los llamados **lenguajes funcionales puros** es un sub-paradigma que se centra en que <u>el resultado de cualquier función dependa únicamente en los parámetros que le pasas</u>, es decir, si ejecutas 2 veces una función con los mismos parámetros, ambas ejecuciones te devolverán lo mismo. Por ello, si usamos <u>variables mutables</u>, puede pasar esto:\n",
    "\n",
    "```python\n",
    "from random import randint\n",
    "\n",
    "def agrega_numero(lista):\n",
    "    lista.append(randint(0, 1e4))\n",
    "    return lista\n",
    "\n",
    "x = list()\n",
    "agrega_numero(x) # ¿Que devuelve?\n",
    "agrega_numero(x) # ¿Que devuelve?\n",
    "```\n",
    "\n",
    "👆 ahí vemos que **Python no es puramente funcional** (ni queremos 😛).\n",
    "\n",
    "Si ya conoces algun lenguaje con variables inmutables, sabrás que (en general) tienen mejor rendimiento que los lenguajes que no: Clojure, Haskell, Scala, Rust... Las ventajas de las estructuras inmutables, es que proporcionan **paralelismo de datos**, **mayor seguridad** y **código más simple**.\n",
    "\n",
    "<u>Algunas estructuras inmutables en Python son las tuplas, los sets \"congelados\" (*frozenset*), `range` y los tipos básicos (int, float, ...)</u>\n",
    "\n",
    "👉 [más info][info] 👈\n",
    "\n",
    "👉 [¿algo práctico?](https://www.youtube.com/watch?v=xJCPpDlk9_w) 👈\n",
    "\n",
    "[info]: https://medium.com/dailyjs/the-state-of-immutability-169d2cd11310\n"
   ]
  },
  {
   "cell_type": "code",
   "execution_count": 34,
   "metadata": {},
   "outputs": [
    {
     "ename": "TypeError",
     "evalue": "'tuple' object does not support item assignment",
     "output_type": "error",
     "traceback": [
      "\u001b[1;31m---------------------------------------------------------------------------\u001b[0m",
      "\u001b[1;31mTypeError\u001b[0m                                 Traceback (most recent call last)",
      "\u001b[1;32m<ipython-input-34-8a53e3328d02>\u001b[0m in \u001b[0;36m<module>\u001b[1;34m\u001b[0m\n\u001b[0;32m      1\u001b[0m \u001b[0mv1\u001b[0m \u001b[1;33m=\u001b[0m \u001b[1;33m(\u001b[0m\u001b[1;36m1\u001b[0m\u001b[1;33m,\u001b[0m \u001b[1;32mTrue\u001b[0m\u001b[1;33m)\u001b[0m\u001b[1;33m\u001b[0m\u001b[1;33m\u001b[0m\u001b[0m\n\u001b[1;32m----> 2\u001b[1;33m \u001b[0mv1\u001b[0m\u001b[1;33m[\u001b[0m\u001b[1;36m0\u001b[0m\u001b[1;33m]\u001b[0m \u001b[1;33m=\u001b[0m \u001b[1;36m3\u001b[0m\u001b[1;33m\u001b[0m\u001b[1;33m\u001b[0m\u001b[0m\n\u001b[0m",
      "\u001b[1;31mTypeError\u001b[0m: 'tuple' object does not support item assignment"
     ]
    }
   ],
   "source": [
    "v1 = (1, True)\n",
    "v1[0] = 3"
   ]
  },
  {
   "cell_type": "code",
   "execution_count": 35,
   "metadata": {},
   "outputs": [
    {
     "data": {
      "text/plain": [
       "frozenset({180, 25, 'ingles c1', 'tomeu'})"
      ]
     },
     "execution_count": 35,
     "metadata": {},
     "output_type": "execute_result"
    }
   ],
   "source": [
    "values = (\"tomeu\", 180, 25, \"ingles c1\")\n",
    "my_var = frozenset(values)\n",
    "my_var"
   ]
  },
  {
   "cell_type": "markdown",
   "metadata": {},
   "source": [
    "### Funciones anónimas o *lambda*\n",
    "\n",
    "<img src=\"https://i.imgur.com/IkMaR4v.png\" width=\"35%\"/>\n",
    "\n",
    "Si has usado JavaScript, Haskell, Java 8+, ... conocerás las funciones anónimas. Éstas permiten **definir una función de un solo uso en una sola línea**. Digamos que las funciones que usamos, por ejemplo, para el `map` (`mas1(valor)`) solo la usamos ahí. ¿Por qué definir una función nueva, si simplemente puedes hacer..."
   ]
  },
  {
   "cell_type": "code",
   "execution_count": 38,
   "metadata": {},
   "outputs": [
    {
     "data": {
      "text/plain": [
       "[2, 3, 4]"
      ]
     },
     "execution_count": 38,
     "metadata": {},
     "output_type": "execute_result"
    }
   ],
   "source": [
    "list1 = [1,2,3]\n",
    "\n",
    "# def mas1(valor):\n",
    "#     return valor + 1\n",
    "\n",
    "list1_mas1 = map(lambda valor: valor + 1, list1)\n",
    "list(list1_mas1)"
   ]
  },
  {
   "cell_type": "markdown",
   "metadata": {},
   "source": [
    "👉 [más info](https://towardsdatascience.com/python-lambda-function-b6e1fa3420c1) 👈"
   ]
  },
  {
   "cell_type": "markdown",
   "metadata": {},
   "source": [
    "### *Lazy evaluation*\n",
    "\n",
    "Quizás ya te hayas preguntado <u>por qué Python compila código que no es correcto</u>, siempre que esté dentro de funciones o clases. Ésto es porque **Python usa evaluación perezosa** dentro de funciones. Esta funcionalidad no solo está en la evaluación de funciones, sino también en algo llamado **generadores**.\n",
    "\n",
    "Básicamente, Python permite **compilar una función cuando es declarada** y solo **comprobar si está correctamente definida cuando se ejecuta al menos una vez**.\n",
    "\n",
    "👉 [más info](https://swizec.com/blog/python-and-lazy-evaluation/swizec/5148) 👈"
   ]
  },
  {
   "cell_type": "code",
   "execution_count": 43,
   "metadata": {},
   "outputs": [],
   "source": [
    "def esto_no_hace_nada(illo):\n",
    "    asdlkjqwelkj"
   ]
  },
  {
   "cell_type": "code",
   "execution_count": 44,
   "metadata": {},
   "outputs": [
    {
     "ename": "NameError",
     "evalue": "name 'asdlkjqwelkj' is not defined",
     "output_type": "error",
     "traceback": [
      "\u001b[1;31m---------------------------------------------------------------------------\u001b[0m",
      "\u001b[1;31mNameError\u001b[0m                                 Traceback (most recent call last)",
      "\u001b[1;32m<ipython-input-44-67ccf1db6a62>\u001b[0m in \u001b[0;36m<module>\u001b[1;34m\u001b[0m\n\u001b[1;32m----> 1\u001b[1;33m \u001b[0mesto_no_hace_nada\u001b[0m\u001b[1;33m(\u001b[0m\u001b[1;36m1\u001b[0m\u001b[1;33m)\u001b[0m\u001b[1;33m\u001b[0m\u001b[1;33m\u001b[0m\u001b[0m\n\u001b[0m",
      "\u001b[1;32m<ipython-input-43-97c2c1fc4799>\u001b[0m in \u001b[0;36mesto_no_hace_nada\u001b[1;34m(illo)\u001b[0m\n\u001b[0;32m      1\u001b[0m \u001b[1;32mdef\u001b[0m \u001b[0mesto_no_hace_nada\u001b[0m\u001b[1;33m(\u001b[0m\u001b[0millo\u001b[0m\u001b[1;33m)\u001b[0m\u001b[1;33m:\u001b[0m\u001b[1;33m\u001b[0m\u001b[1;33m\u001b[0m\u001b[0m\n\u001b[1;32m----> 2\u001b[1;33m     \u001b[0masdlkjqwelkj\u001b[0m\u001b[1;33m\u001b[0m\u001b[1;33m\u001b[0m\u001b[0m\n\u001b[0m",
      "\u001b[1;31mNameError\u001b[0m: name 'asdlkjqwelkj' is not defined"
     ]
    }
   ],
   "source": [
    "esto_no_hace_nada(1)"
   ]
  },
  {
   "cell_type": "code",
   "execution_count": 30,
   "metadata": {},
   "outputs": [
    {
     "name": "stdout",
     "output_type": "stream",
     "text": [
      "range(0, 10) <class 'range'>\n",
      "<enumerate object at 0x000002365B9B9818> <class 'enumerate'> [(0, 10), (1, 20), (2, 30)]\n",
      "<list_reverseiterator object at 0x000002365BE53248> <class 'list_reverseiterator'> [30, 20, 10]\n"
     ]
    }
   ],
   "source": [
    "generador_1 = range(10)\n",
    "generador_2 = enumerate([10,20,30])\n",
    "generador_3 = reversed([10,20,30])\n",
    "\n",
    "print(generador_1, type(generador_1))\n",
    "print(generador_2, type(generador_2), list(generador_2))\n",
    "print(generador_3, type(generador_3), list(generador_3))\n"
   ]
  },
  {
   "cell_type": "markdown",
   "metadata": {},
   "source": [
    "### En resumen\n",
    "\n",
    "La programación funcional es una baza a tener en cuenta, si queremos crear **programas deterministas**, es decir, cuyos resultados no puedan tener *efectos colaterales* sea cual sea el conjunto de datos de entrada."
   ]
  },
  {
   "cell_type": "code",
   "execution_count": 1,
   "metadata": {},
   "outputs": [
    {
     "ename": "KeyError",
     "evalue": "'Nombre'",
     "output_type": "error",
     "traceback": [
      "\u001b[1;31m---------------------------------------------------------------------------\u001b[0m",
      "\u001b[1;31mKeyError\u001b[0m                                  Traceback (most recent call last)",
      "\u001b[1;32m<ipython-input-1-4118594dda04>\u001b[0m in \u001b[0;36m<module>\u001b[1;34m\u001b[0m\n\u001b[0;32m      2\u001b[0m \u001b[1;33m\u001b[0m\u001b[0m\n\u001b[0;32m      3\u001b[0m \u001b[0mdatos_json\u001b[0m\u001b[1;33m[\u001b[0m\u001b[1;34m\"nombre\"\u001b[0m\u001b[1;33m]\u001b[0m \u001b[1;31m#ok! pero y si...\u001b[0m\u001b[1;33m\u001b[0m\u001b[1;33m\u001b[0m\u001b[0m\n\u001b[1;32m----> 4\u001b[1;33m \u001b[0mdatos_json\u001b[0m\u001b[1;33m[\u001b[0m\u001b[1;34m\"Nombre\"\u001b[0m\u001b[1;33m]\u001b[0m\u001b[1;33m\u001b[0m\u001b[1;33m\u001b[0m\u001b[0m\n\u001b[0m",
      "\u001b[1;31mKeyError\u001b[0m: 'Nombre'"
     ]
    }
   ],
   "source": [
    "datos_json = {\"nombre\": \"Jorge\", \"edad\": 24, \"altura\": 180, \"profesion\": \"marketing\"}\n",
    "\n",
    "datos_json[\"nombre\"] #ok! pero y si...\n",
    "datos_json[\"Nombre\"]"
   ]
  },
  {
   "cell_type": "code",
   "execution_count": 6,
   "metadata": {},
   "outputs": [
    {
     "data": {
      "text/plain": [
       "'te has equivocao de clave :P'"
      ]
     },
     "execution_count": 6,
     "metadata": {},
     "output_type": "execute_result"
    }
   ],
   "source": [
    "datos_json.get(\"Nombre\", \"te has equivocao de clave :P\")"
   ]
  },
  {
   "cell_type": "markdown",
   "metadata": {},
   "source": [
    "---\n",
    "\n",
    "## Y de aquí.. ¿a Pekín?\n",
    "\n",
    "Creo que el contenido del capítulo ya es suficientemente denso como para seguir avanzando, así que dejo unos cuantos recursos por si quereis seguir avanzando:\n",
    "\n",
    "### Extras\n",
    "\n",
    "+ Expresiones Regulares. Si no sabes lo que son, [Mozilla tiene un artículo muy bueno](https://developer.mozilla.org/es/docs/Web/JavaScript/Guide/Regular_Expressions) (practica con [RegExr, es genial!](https://regexr.com/)). En Python funcionan [de otro modo](http://buhoprogramador.com/entrada/10/expresiones-regulares-en-python). Para más avanzados, [aquí](https://www.pythonsheets.com/notes/python-rexp.html).\n",
    "\n",
    "+ Descubre la 🧙‍magia 🧙‍ dentro de Jupyter. Explora sus *magics*, como `%time`, `%timeit` o `%matplotlib` [aquí](https://ipython.readthedocs.io/en/stable/interactive/magics.html).\n",
    "\n",
    "+ Cómo funciona la Lectura/Escritura de archivos. Más [aquí](https://pythonista.io/cursos/py101/escritura-y-lectura-de-archivos).\n",
    "\n",
    "+ Ligeramente ligado con lo anterior, y sobre todo con estructuras de datos, están los **generadores**. [En este artículo](https://alvarohurtado.es/2013/08/31/generadores-en-python/) tienes una explicación de qué son y para qué sirven. Para avanzados: [aquí](https://www.pythonsheets.com/notes/python-generator.html).\n",
    "\n",
    "+ Los **decoradores** son algo muy interesante, algo único de Python. Es algo que me estoy mirando recientemente y permiten, además de mejorar la documentación de tu código, pre-procesarlo para poder añadir funcionalidades extras. Algo así **como las macros de Excel o Rust**. Para iniciarte: [aquí](https://codingornot.com/python-que-es-un-decorador). Para avanzados: [aquí](https://realpython.com/primer-on-python-decorators/).\n",
    "\n",
    "+ [Este artículo](https://blog.adrianistan.eu/cosas-no-sabias-python) repasa algunos conceptos ya vistos de manera más profunda.\n",
    "\n",
    "+ **Para los usuarios de Windows**, recomiendo mirar el [*WSL o Windows Subsystem for Linux*](https://ubunlog.com/wsl-como-instalar-y-usar-el-susbistema-ubuntu-en-windows-10/), el cual permite ejecutar sistemas Linux como Ubuntu o Debian dentro de Windows (al más puro estilo Docker).\n",
    "\n",
    "¿Un consejo? Busca código donde se use lo que menciono; **lo más útil** es que puedas ver **cuándo y por qué se usan** las distintas ***features* del lenguaje** - **y por qué no usarlas si no es necesario**.\n",
    "\n",
    "### Plataformas para practicar\n",
    "\n",
    "<img src=\"https://i.imgur.com/3PHSZV5.png\" width=\"60%\"/>\n",
    "\n",
    "+ [Codewars](https://www.codewars.com/) permite practicar tus conocimientos de programación entorno a varios problemas - todo problema puedes resolverlo en más de 20 lenguajes: Python, Haskell, Java, ...\n",
    "\n",
    "+ Otras plataformas como [Exercism](https://exercism.io/) o [Leetcode](https://leetcode.com/) se centran en *tracks* o cursos completos, que tratan temas como Algoritmia, problemas de decisión o búsqueda.\n",
    "\n",
    "+ Incluso Google ofrece [un curso de Python](https://developers.google.com/edu/python). De cara a los próximos capítulos, [**recomiendo este libro sobre Python y Data Science**](https://jakevdp.github.io/PythonDataScienceHandbook/), totalmente gratuito de manera online.\n",
    "\n",
    "De todas formas, ésto solo es un pequeño grano en el mar de recursos que hay. Te recomiendo que hagas [una búsqueda en GitHub](https://github.com/search?q=python), o [pruebes en PyPi](https://pypi.org/).\n",
    "\n",
    "### Cosillas feas de Python\n",
    "\n",
    "+ **La cantidad de versiones**: si acabas de llegar a Python y te encuentras con alrededor de 8 versiones, tu cabeza hace 🤯🤯 incluso peor, es cuando tienes que usar Python2 y Python3 a la vez, pues tienes que operar como si fuesen dos lenguajes distintos. Ésto también se acentua cuando trabajas por proyecto (menos mal que existe Anaconda y PyEnv 🥳)\n",
    "\n",
    "+ **La dificultad para hacer concurrencia** (ésto es algo avanzado): Python tiene varias implementaciones, y *CPython*, la más usada, implementa [una estructura, llamada *GIL*, que obliga a correr Python en un solo procesador](https://hackernoon.com/concurrent-programming-in-python-is-not-what-you-think-it-is-b6439c3f3e6a).\n",
    "\n",
    "+ Las implementaciones completamente hechas en Python tienden a ser lentas, comparadas con C / C++ o Rust.\n"
   ]
  },
  {
   "cell_type": "markdown",
   "metadata": {},
   "source": [
    "---\n",
    "\n",
    "Licencia: [GNU GPLv3](https://www.tiobe.com/tiobe-index/) 2020"
   ]
  }
 ],
 "metadata": {
  "kernelspec": {
   "display_name": "Python 3",
   "language": "python",
   "name": "python3"
  },
  "language_info": {
   "codemirror_mode": {
    "name": "ipython",
    "version": 3
   },
   "file_extension": ".py",
   "mimetype": "text/x-python",
   "name": "python",
   "nbconvert_exporter": "python",
   "pygments_lexer": "ipython3",
   "version": "3.7.6"
  }
 },
 "nbformat": 4,
 "nbformat_minor": 4
}
